{
 "cells": [
  {
   "cell_type": "markdown",
   "metadata": {},
   "source": [
    "# This notebook will help create a visualization of english wikipedia user traffic\n",
    "\n",
    "### There are three major steps:\n",
    "\n",
    "### 1. Retrieve Pagecount Data using the API and store this output in JSON files\n",
    "### 2. Merge all data and store this as a CSV file\n",
    "### 3. Generate and save the visualization"
   ]
  },
  {
   "cell_type": "code",
   "execution_count": null,
   "metadata": {},
   "outputs": [],
   "source": []
  },
  {
   "cell_type": "markdown",
   "metadata": {},
   "source": [
    "# 1. Retrieve Pagecount Data\n",
    "\n",
    "### Set up the API calls\n",
    "\n",
    "API code borrowed from http://paws-public.wmflabs.org/paws-public/User:Jtmorgan/data512_a1_example.ipynb\n",
    "\n",
    "Uses the Wikipedia API https://wikimedia.org/api/rest_v1/#!/Legacy_data/get_metrics_legacy_pagecounts_aggregate_project_access_site_granularity_start_end"
   ]
  },
  {
   "cell_type": "code",
   "execution_count": 1,
   "metadata": {},
   "outputs": [],
   "source": [
    "import json\n",
    "import requests"
   ]
  },
  {
   "cell_type": "code",
   "execution_count": 2,
   "metadata": {},
   "outputs": [],
   "source": [
    "endpoint_legacy = 'https://wikimedia.org/api/rest_v1/metrics/legacy/pagecounts/aggregate/{project}/{access-site}/{granularity}/{start}/{end}'\n",
    "\n",
    "endpoint_pageviews = 'https://wikimedia.org/api/rest_v1/metrics/pageviews/aggregate/{project}/{access}/{agent}/{granularity}/{start}/{end}'"
   ]
  },
  {
   "cell_type": "code",
   "execution_count": 3,
   "metadata": {},
   "outputs": [],
   "source": [
    "# SAMPLE parameters for getting aggregated legacy view data \n",
    "# see: https://wikimedia.org/api/rest_v1/#!/Legacy_data/get_metrics_legacy_pagecounts_aggregate_project_access_site_granularity_start_end\n",
    "params_legacy = {\"project\" : \"en.wikipedia.org\",\n",
    "                 \"access-site\" : \"desktop-site\",\n",
    "                 \"granularity\" : \"monthly\",\n",
    "                 \"start\" : \"2001010100\",\n",
    "                # for end use 1st day of month following final month of data\n",
    "                 \"end\" : \"2016070100\"\n",
    "                    }\n",
    "\n",
    "params_legacy_mobile = {\"project\" : \"en.wikipedia.org\",\n",
    "                 \"access-site\" : \"mobile-site\",\n",
    "                 \"granularity\" : \"monthly\",\n",
    "                 \"start\" : \"2001010100\",\n",
    "                # for end use 1st day of month following final month of data\n",
    "                 \"end\" : \"2016070100\"\n",
    "                    }\n",
    "\n",
    "params_pageviews = {\"project\" : \"en.wikipedia.org\",\n",
    "                    \"access\" : \"desktop\",\n",
    "                    \"agent\" : \"user\",\n",
    "                    \"granularity\" : \"monthly\",\n",
    "                    \"start\" : \"2001010100\",\n",
    "                    # for end use 1st day of month following final month of data\n",
    "                    \"end\" : '2020100100'\n",
    "                        }\n",
    "\n",
    "params_pageviews_mobile_app = {\"project\" : \"en.wikipedia.org\",\n",
    "                    \"access\" : \"mobile-app\",\n",
    "                    \"agent\" : \"user\",\n",
    "                    \"granularity\" : \"monthly\",\n",
    "                    \"start\" : \"2001010100\",\n",
    "                    # for end use 1st day of month following final month of data\n",
    "                    \"end\" : '2020100100'\n",
    "                        }\n",
    "\n",
    "params_pageviews_mobile_web = {\"project\" : \"en.wikipedia.org\",\n",
    "                    \"access\" : \"mobile-web\",\n",
    "                    \"agent\" : \"user\",\n",
    "                    \"granularity\" : \"monthly\",\n",
    "                    \"start\" : \"2001010100\",\n",
    "                    # for end use 1st day of month following final month of data\n",
    "                    \"end\" : '2020100100'\n",
    "                        }\n",
    "\n",
    "# Customize these with your own information\n",
    "headers = {\n",
    "    'User-Agent': 'https://github.com/jfm888',\n",
    "    'From': 'jm888@uw.edu'\n",
    "}"
   ]
  },
  {
   "cell_type": "code",
   "execution_count": 4,
   "metadata": {},
   "outputs": [],
   "source": [
    "def api_call(endpoint,parameters):\n",
    "    call = requests.get(endpoint.format(**parameters), headers=headers)\n",
    "    response = call.json()\n",
    "    \n",
    "    return response"
   ]
  },
  {
   "cell_type": "markdown",
   "metadata": {},
   "source": [
    "### Run the API calls"
   ]
  },
  {
   "cell_type": "markdown",
   "metadata": {},
   "source": [
    "Generates the traffic data from api calls to the wiki api"
   ]
  },
  {
   "cell_type": "code",
   "execution_count": 5,
   "metadata": {},
   "outputs": [],
   "source": [
    "monthly_legacy_desktop = api_call(endpoint_legacy, params_legacy)"
   ]
  },
  {
   "cell_type": "code",
   "execution_count": 6,
   "metadata": {},
   "outputs": [],
   "source": [
    "monthly_legacy_mobile = api_call(endpoint_legacy, params_legacy_mobile)"
   ]
  },
  {
   "cell_type": "code",
   "execution_count": 7,
   "metadata": {},
   "outputs": [],
   "source": [
    "monthly_pageviews_desktop = api_call(endpoint_pageviews, params_pageviews)"
   ]
  },
  {
   "cell_type": "code",
   "execution_count": 8,
   "metadata": {},
   "outputs": [],
   "source": [
    "monthly_pageviews_mobile_app = api_call(endpoint_pageviews, params_pageviews_mobile_app)"
   ]
  },
  {
   "cell_type": "code",
   "execution_count": 9,
   "metadata": {},
   "outputs": [],
   "source": [
    "monthly_pageviews_mobile_web = api_call(endpoint_pageviews, params_pageviews_mobile_web)"
   ]
  },
  {
   "cell_type": "markdown",
   "metadata": {},
   "source": [
    "### Explore the API data to see if it makes sense\n",
    "\n",
    "For brevity I've only shown the first and last entry in each API call but we can see the date ranges"
   ]
  },
  {
   "cell_type": "code",
   "execution_count": 10,
   "metadata": {},
   "outputs": [
    {
     "name": "stdout",
     "output_type": "stream",
     "text": [
      "{'project': 'en.wikipedia', 'access-site': 'desktop-site', 'granularity': 'monthly', 'timestamp': '2007120100', 'count': 2998331524}\n",
      "{'project': 'en.wikipedia', 'access-site': 'desktop-site', 'granularity': 'monthly', 'timestamp': '2016060100', 'count': 4975092447}\n"
     ]
    }
   ],
   "source": [
    "print(monthly_legacy_desktop['items'][0])\n",
    "print(monthly_legacy_desktop['items'][-1])"
   ]
  },
  {
   "cell_type": "code",
   "execution_count": 11,
   "metadata": {},
   "outputs": [
    {
     "name": "stdout",
     "output_type": "stream",
     "text": [
      "{'project': 'en.wikipedia', 'access-site': 'mobile-site', 'granularity': 'monthly', 'timestamp': '2014100100', 'count': 3091546685}\n",
      "{'project': 'en.wikipedia', 'access-site': 'mobile-site', 'granularity': 'monthly', 'timestamp': '2016060100', 'count': 3372618063}\n"
     ]
    }
   ],
   "source": [
    "print(monthly_legacy_mobile['items'][0])\n",
    "print(monthly_legacy_mobile['items'][-1])"
   ]
  },
  {
   "cell_type": "code",
   "execution_count": 12,
   "metadata": {},
   "outputs": [
    {
     "name": "stdout",
     "output_type": "stream",
     "text": [
      "{'project': 'en.wikipedia', 'access': 'desktop', 'agent': 'user', 'granularity': 'monthly', 'timestamp': '2015070100', 'views': 4376666686}\n",
      "{'project': 'en.wikipedia', 'access': 'desktop', 'agent': 'user', 'granularity': 'monthly', 'timestamp': '2020090100', 'views': 2661783500}\n"
     ]
    }
   ],
   "source": [
    "print(monthly_pageviews_desktop['items'][0])\n",
    "print(monthly_pageviews_desktop['items'][-1])"
   ]
  },
  {
   "cell_type": "code",
   "execution_count": 13,
   "metadata": {},
   "outputs": [
    {
     "name": "stdout",
     "output_type": "stream",
     "text": [
      "{'project': 'en.wikipedia', 'access': 'mobile-app', 'agent': 'user', 'granularity': 'monthly', 'timestamp': '2015070100', 'views': 109624146}\n",
      "{'project': 'en.wikipedia', 'access': 'mobile-app', 'agent': 'user', 'granularity': 'monthly', 'timestamp': '2020090100', 'views': 147202116}\n"
     ]
    }
   ],
   "source": [
    "print(monthly_pageviews_mobile_app['items'][0])\n",
    "print(monthly_pageviews_mobile_app['items'][-1])"
   ]
  },
  {
   "cell_type": "code",
   "execution_count": 14,
   "metadata": {},
   "outputs": [
    {
     "name": "stdout",
     "output_type": "stream",
     "text": [
      "{'project': 'en.wikipedia', 'access': 'mobile-web', 'agent': 'user', 'granularity': 'monthly', 'timestamp': '2015070100', 'views': 3179131148}\n",
      "{'project': 'en.wikipedia', 'access': 'mobile-web', 'agent': 'user', 'granularity': 'monthly', 'timestamp': '2020090100', 'views': 4345048664}\n"
     ]
    }
   ],
   "source": [
    "print(monthly_pageviews_mobile_web['items'][0])\n",
    "print(monthly_pageviews_mobile_web['items'][-1])"
   ]
  },
  {
   "cell_type": "markdown",
   "metadata": {},
   "source": [
    "### Save the API call data in JSON files\n",
    "\n",
    "We will save the API call data in JSON files as a backup\n",
    "\n",
    "Format for the saved files is \"apiname_accesstype_firstmonth-lastmonth.json\""
   ]
  },
  {
   "cell_type": "markdown",
   "metadata": {},
   "source": [
    "using \"with open\" will close our files automatically after we are done writing, very nice"
   ]
  },
  {
   "cell_type": "code",
   "execution_count": 15,
   "metadata": {},
   "outputs": [],
   "source": [
    "with open(\"pagecounts_desktop-site_200712-201608.json\", \"w\") as outfile: \n",
    "    json.dump(monthly_legacy_desktop, outfile)"
   ]
  },
  {
   "cell_type": "code",
   "execution_count": 16,
   "metadata": {},
   "outputs": [],
   "source": [
    "with open(\"pagecounts_mobile-site_201410-201608.json\", \"w\") as outfile: \n",
    "    json.dump(monthly_legacy_mobile, outfile) "
   ]
  },
  {
   "cell_type": "code",
   "execution_count": 17,
   "metadata": {},
   "outputs": [],
   "source": [
    "with open(\"pageviews_desktop_201507-202009.json\", \"w\") as outfile: \n",
    "    json.dump(monthly_pageviews_desktop, outfile)"
   ]
  },
  {
   "cell_type": "code",
   "execution_count": 18,
   "metadata": {},
   "outputs": [],
   "source": [
    "with open(\"pageviews_mobile-app_201507-202009.json\", \"w\") as outfile: \n",
    "    json.dump(monthly_pageviews_mobile_app, outfile)"
   ]
  },
  {
   "cell_type": "code",
   "execution_count": 19,
   "metadata": {},
   "outputs": [],
   "source": [
    "with open(\"pageviews_mobile-web_201507-202009.json\", \"w\") as outfile: \n",
    "    json.dump(monthly_pageviews_mobile_web, outfile)"
   ]
  },
  {
   "cell_type": "markdown",
   "metadata": {},
   "source": [
    "# 2. Merge all API data\n",
    "\n",
    "### Create Pandas DataFrame objects for each API call"
   ]
  },
  {
   "cell_type": "markdown",
   "metadata": {},
   "source": [
    "import the Pandas package and alias it as pd"
   ]
  },
  {
   "cell_type": "code",
   "execution_count": 20,
   "metadata": {},
   "outputs": [],
   "source": [
    "import pandas as pd"
   ]
  },
  {
   "cell_type": "markdown",
   "metadata": {},
   "source": [
    "create the pagecount_desktop dataframe"
   ]
  },
  {
   "cell_type": "code",
   "execution_count": 21,
   "metadata": {},
   "outputs": [],
   "source": [
    "df_pagecount_desktop = pd.DataFrame(monthly_legacy_desktop['items']).sort_values(by=['timestamp'])"
   ]
  },
  {
   "cell_type": "code",
   "execution_count": 22,
   "metadata": {},
   "outputs": [
    {
     "data": {
      "text/html": [
       "<div>\n",
       "<style scoped>\n",
       "    .dataframe tbody tr th:only-of-type {\n",
       "        vertical-align: middle;\n",
       "    }\n",
       "\n",
       "    .dataframe tbody tr th {\n",
       "        vertical-align: top;\n",
       "    }\n",
       "\n",
       "    .dataframe thead th {\n",
       "        text-align: right;\n",
       "    }\n",
       "</style>\n",
       "<table border=\"1\" class=\"dataframe\">\n",
       "  <thead>\n",
       "    <tr style=\"text-align: right;\">\n",
       "      <th></th>\n",
       "      <th>project</th>\n",
       "      <th>access-site</th>\n",
       "      <th>granularity</th>\n",
       "      <th>timestamp</th>\n",
       "      <th>count</th>\n",
       "    </tr>\n",
       "  </thead>\n",
       "  <tbody>\n",
       "    <tr>\n",
       "      <td>0</td>\n",
       "      <td>en.wikipedia</td>\n",
       "      <td>desktop-site</td>\n",
       "      <td>monthly</td>\n",
       "      <td>2007120100</td>\n",
       "      <td>2998331524</td>\n",
       "    </tr>\n",
       "    <tr>\n",
       "      <td>1</td>\n",
       "      <td>en.wikipedia</td>\n",
       "      <td>desktop-site</td>\n",
       "      <td>monthly</td>\n",
       "      <td>2008010100</td>\n",
       "      <td>4930902570</td>\n",
       "    </tr>\n",
       "    <tr>\n",
       "      <td>2</td>\n",
       "      <td>en.wikipedia</td>\n",
       "      <td>desktop-site</td>\n",
       "      <td>monthly</td>\n",
       "      <td>2008020100</td>\n",
       "      <td>4818393763</td>\n",
       "    </tr>\n",
       "    <tr>\n",
       "      <td>3</td>\n",
       "      <td>en.wikipedia</td>\n",
       "      <td>desktop-site</td>\n",
       "      <td>monthly</td>\n",
       "      <td>2008030100</td>\n",
       "      <td>4955405809</td>\n",
       "    </tr>\n",
       "    <tr>\n",
       "      <td>4</td>\n",
       "      <td>en.wikipedia</td>\n",
       "      <td>desktop-site</td>\n",
       "      <td>monthly</td>\n",
       "      <td>2008040100</td>\n",
       "      <td>5159162183</td>\n",
       "    </tr>\n",
       "  </tbody>\n",
       "</table>\n",
       "</div>"
      ],
      "text/plain": [
       "        project   access-site granularity   timestamp       count\n",
       "0  en.wikipedia  desktop-site     monthly  2007120100  2998331524\n",
       "1  en.wikipedia  desktop-site     monthly  2008010100  4930902570\n",
       "2  en.wikipedia  desktop-site     monthly  2008020100  4818393763\n",
       "3  en.wikipedia  desktop-site     monthly  2008030100  4955405809\n",
       "4  en.wikipedia  desktop-site     monthly  2008040100  5159162183"
      ]
     },
     "execution_count": 22,
     "metadata": {},
     "output_type": "execute_result"
    }
   ],
   "source": [
    "df_pagecount_desktop.head()"
   ]
  },
  {
   "cell_type": "markdown",
   "metadata": {},
   "source": [
    "create the pagecount_mobile dataframe"
   ]
  },
  {
   "cell_type": "code",
   "execution_count": 23,
   "metadata": {},
   "outputs": [],
   "source": [
    "df_pagecount_mobile = pd.DataFrame(monthly_legacy_mobile['items']).sort_values(by=['timestamp'])"
   ]
  },
  {
   "cell_type": "code",
   "execution_count": 24,
   "metadata": {},
   "outputs": [
    {
     "data": {
      "text/html": [
       "<div>\n",
       "<style scoped>\n",
       "    .dataframe tbody tr th:only-of-type {\n",
       "        vertical-align: middle;\n",
       "    }\n",
       "\n",
       "    .dataframe tbody tr th {\n",
       "        vertical-align: top;\n",
       "    }\n",
       "\n",
       "    .dataframe thead th {\n",
       "        text-align: right;\n",
       "    }\n",
       "</style>\n",
       "<table border=\"1\" class=\"dataframe\">\n",
       "  <thead>\n",
       "    <tr style=\"text-align: right;\">\n",
       "      <th></th>\n",
       "      <th>project</th>\n",
       "      <th>access-site</th>\n",
       "      <th>granularity</th>\n",
       "      <th>timestamp</th>\n",
       "      <th>count</th>\n",
       "    </tr>\n",
       "  </thead>\n",
       "  <tbody>\n",
       "    <tr>\n",
       "      <td>0</td>\n",
       "      <td>en.wikipedia</td>\n",
       "      <td>mobile-site</td>\n",
       "      <td>monthly</td>\n",
       "      <td>2014100100</td>\n",
       "      <td>3091546685</td>\n",
       "    </tr>\n",
       "    <tr>\n",
       "      <td>1</td>\n",
       "      <td>en.wikipedia</td>\n",
       "      <td>mobile-site</td>\n",
       "      <td>monthly</td>\n",
       "      <td>2014110100</td>\n",
       "      <td>3027489668</td>\n",
       "    </tr>\n",
       "    <tr>\n",
       "      <td>2</td>\n",
       "      <td>en.wikipedia</td>\n",
       "      <td>mobile-site</td>\n",
       "      <td>monthly</td>\n",
       "      <td>2014120100</td>\n",
       "      <td>3278950021</td>\n",
       "    </tr>\n",
       "    <tr>\n",
       "      <td>3</td>\n",
       "      <td>en.wikipedia</td>\n",
       "      <td>mobile-site</td>\n",
       "      <td>monthly</td>\n",
       "      <td>2015010100</td>\n",
       "      <td>3485302091</td>\n",
       "    </tr>\n",
       "    <tr>\n",
       "      <td>4</td>\n",
       "      <td>en.wikipedia</td>\n",
       "      <td>mobile-site</td>\n",
       "      <td>monthly</td>\n",
       "      <td>2015020100</td>\n",
       "      <td>3091534479</td>\n",
       "    </tr>\n",
       "  </tbody>\n",
       "</table>\n",
       "</div>"
      ],
      "text/plain": [
       "        project  access-site granularity   timestamp       count\n",
       "0  en.wikipedia  mobile-site     monthly  2014100100  3091546685\n",
       "1  en.wikipedia  mobile-site     monthly  2014110100  3027489668\n",
       "2  en.wikipedia  mobile-site     monthly  2014120100  3278950021\n",
       "3  en.wikipedia  mobile-site     monthly  2015010100  3485302091\n",
       "4  en.wikipedia  mobile-site     monthly  2015020100  3091534479"
      ]
     },
     "execution_count": 24,
     "metadata": {},
     "output_type": "execute_result"
    }
   ],
   "source": [
    "df_pagecount_mobile.head()"
   ]
  },
  {
   "cell_type": "markdown",
   "metadata": {},
   "source": [
    "create the pageviews_mobile_desktop dataframe"
   ]
  },
  {
   "cell_type": "code",
   "execution_count": 25,
   "metadata": {},
   "outputs": [],
   "source": [
    "df_pageviews_desktop = pd.DataFrame(monthly_pageviews_desktop['items']).sort_values(by=['timestamp'])"
   ]
  },
  {
   "cell_type": "code",
   "execution_count": 26,
   "metadata": {},
   "outputs": [
    {
     "data": {
      "text/html": [
       "<div>\n",
       "<style scoped>\n",
       "    .dataframe tbody tr th:only-of-type {\n",
       "        vertical-align: middle;\n",
       "    }\n",
       "\n",
       "    .dataframe tbody tr th {\n",
       "        vertical-align: top;\n",
       "    }\n",
       "\n",
       "    .dataframe thead th {\n",
       "        text-align: right;\n",
       "    }\n",
       "</style>\n",
       "<table border=\"1\" class=\"dataframe\">\n",
       "  <thead>\n",
       "    <tr style=\"text-align: right;\">\n",
       "      <th></th>\n",
       "      <th>project</th>\n",
       "      <th>access</th>\n",
       "      <th>agent</th>\n",
       "      <th>granularity</th>\n",
       "      <th>timestamp</th>\n",
       "      <th>views</th>\n",
       "    </tr>\n",
       "  </thead>\n",
       "  <tbody>\n",
       "    <tr>\n",
       "      <td>0</td>\n",
       "      <td>en.wikipedia</td>\n",
       "      <td>desktop</td>\n",
       "      <td>user</td>\n",
       "      <td>monthly</td>\n",
       "      <td>2015070100</td>\n",
       "      <td>4376666686</td>\n",
       "    </tr>\n",
       "    <tr>\n",
       "      <td>1</td>\n",
       "      <td>en.wikipedia</td>\n",
       "      <td>desktop</td>\n",
       "      <td>user</td>\n",
       "      <td>monthly</td>\n",
       "      <td>2015080100</td>\n",
       "      <td>4332482183</td>\n",
       "    </tr>\n",
       "    <tr>\n",
       "      <td>2</td>\n",
       "      <td>en.wikipedia</td>\n",
       "      <td>desktop</td>\n",
       "      <td>user</td>\n",
       "      <td>monthly</td>\n",
       "      <td>2015090100</td>\n",
       "      <td>4485491704</td>\n",
       "    </tr>\n",
       "    <tr>\n",
       "      <td>3</td>\n",
       "      <td>en.wikipedia</td>\n",
       "      <td>desktop</td>\n",
       "      <td>user</td>\n",
       "      <td>monthly</td>\n",
       "      <td>2015100100</td>\n",
       "      <td>4477532755</td>\n",
       "    </tr>\n",
       "    <tr>\n",
       "      <td>4</td>\n",
       "      <td>en.wikipedia</td>\n",
       "      <td>desktop</td>\n",
       "      <td>user</td>\n",
       "      <td>monthly</td>\n",
       "      <td>2015110100</td>\n",
       "      <td>4287720220</td>\n",
       "    </tr>\n",
       "  </tbody>\n",
       "</table>\n",
       "</div>"
      ],
      "text/plain": [
       "        project   access agent granularity   timestamp       views\n",
       "0  en.wikipedia  desktop  user     monthly  2015070100  4376666686\n",
       "1  en.wikipedia  desktop  user     monthly  2015080100  4332482183\n",
       "2  en.wikipedia  desktop  user     monthly  2015090100  4485491704\n",
       "3  en.wikipedia  desktop  user     monthly  2015100100  4477532755\n",
       "4  en.wikipedia  desktop  user     monthly  2015110100  4287720220"
      ]
     },
     "execution_count": 26,
     "metadata": {},
     "output_type": "execute_result"
    }
   ],
   "source": [
    "df_pageviews_desktop.head()"
   ]
  },
  {
   "cell_type": "markdown",
   "metadata": {},
   "source": [
    "create the pageviews_mobile_app dataframe"
   ]
  },
  {
   "cell_type": "code",
   "execution_count": 27,
   "metadata": {},
   "outputs": [],
   "source": [
    "df_pageviews_mobile_app = pd.DataFrame(monthly_pageviews_mobile_app['items']).sort_values(by=['timestamp'])"
   ]
  },
  {
   "cell_type": "code",
   "execution_count": 28,
   "metadata": {},
   "outputs": [
    {
     "data": {
      "text/html": [
       "<div>\n",
       "<style scoped>\n",
       "    .dataframe tbody tr th:only-of-type {\n",
       "        vertical-align: middle;\n",
       "    }\n",
       "\n",
       "    .dataframe tbody tr th {\n",
       "        vertical-align: top;\n",
       "    }\n",
       "\n",
       "    .dataframe thead th {\n",
       "        text-align: right;\n",
       "    }\n",
       "</style>\n",
       "<table border=\"1\" class=\"dataframe\">\n",
       "  <thead>\n",
       "    <tr style=\"text-align: right;\">\n",
       "      <th></th>\n",
       "      <th>project</th>\n",
       "      <th>access</th>\n",
       "      <th>agent</th>\n",
       "      <th>granularity</th>\n",
       "      <th>timestamp</th>\n",
       "      <th>views</th>\n",
       "    </tr>\n",
       "  </thead>\n",
       "  <tbody>\n",
       "    <tr>\n",
       "      <td>0</td>\n",
       "      <td>en.wikipedia</td>\n",
       "      <td>mobile-app</td>\n",
       "      <td>user</td>\n",
       "      <td>monthly</td>\n",
       "      <td>2015070100</td>\n",
       "      <td>109624146</td>\n",
       "    </tr>\n",
       "    <tr>\n",
       "      <td>1</td>\n",
       "      <td>en.wikipedia</td>\n",
       "      <td>mobile-app</td>\n",
       "      <td>user</td>\n",
       "      <td>monthly</td>\n",
       "      <td>2015080100</td>\n",
       "      <td>109669149</td>\n",
       "    </tr>\n",
       "    <tr>\n",
       "      <td>2</td>\n",
       "      <td>en.wikipedia</td>\n",
       "      <td>mobile-app</td>\n",
       "      <td>user</td>\n",
       "      <td>monthly</td>\n",
       "      <td>2015090100</td>\n",
       "      <td>96221684</td>\n",
       "    </tr>\n",
       "    <tr>\n",
       "      <td>3</td>\n",
       "      <td>en.wikipedia</td>\n",
       "      <td>mobile-app</td>\n",
       "      <td>user</td>\n",
       "      <td>monthly</td>\n",
       "      <td>2015100100</td>\n",
       "      <td>94523777</td>\n",
       "    </tr>\n",
       "    <tr>\n",
       "      <td>4</td>\n",
       "      <td>en.wikipedia</td>\n",
       "      <td>mobile-app</td>\n",
       "      <td>user</td>\n",
       "      <td>monthly</td>\n",
       "      <td>2015110100</td>\n",
       "      <td>94353925</td>\n",
       "    </tr>\n",
       "  </tbody>\n",
       "</table>\n",
       "</div>"
      ],
      "text/plain": [
       "        project      access agent granularity   timestamp      views\n",
       "0  en.wikipedia  mobile-app  user     monthly  2015070100  109624146\n",
       "1  en.wikipedia  mobile-app  user     monthly  2015080100  109669149\n",
       "2  en.wikipedia  mobile-app  user     monthly  2015090100   96221684\n",
       "3  en.wikipedia  mobile-app  user     monthly  2015100100   94523777\n",
       "4  en.wikipedia  mobile-app  user     monthly  2015110100   94353925"
      ]
     },
     "execution_count": 28,
     "metadata": {},
     "output_type": "execute_result"
    }
   ],
   "source": [
    "df_pageviews_mobile_app.head()"
   ]
  },
  {
   "cell_type": "markdown",
   "metadata": {},
   "source": [
    "create the pageviews_mobile_web dataframe"
   ]
  },
  {
   "cell_type": "code",
   "execution_count": 29,
   "metadata": {},
   "outputs": [],
   "source": [
    "df_pageviews_mobile_web = pd.DataFrame(monthly_pageviews_mobile_web['items']).sort_values(by=['timestamp'])"
   ]
  },
  {
   "cell_type": "code",
   "execution_count": 30,
   "metadata": {},
   "outputs": [
    {
     "data": {
      "text/html": [
       "<div>\n",
       "<style scoped>\n",
       "    .dataframe tbody tr th:only-of-type {\n",
       "        vertical-align: middle;\n",
       "    }\n",
       "\n",
       "    .dataframe tbody tr th {\n",
       "        vertical-align: top;\n",
       "    }\n",
       "\n",
       "    .dataframe thead th {\n",
       "        text-align: right;\n",
       "    }\n",
       "</style>\n",
       "<table border=\"1\" class=\"dataframe\">\n",
       "  <thead>\n",
       "    <tr style=\"text-align: right;\">\n",
       "      <th></th>\n",
       "      <th>project</th>\n",
       "      <th>access</th>\n",
       "      <th>agent</th>\n",
       "      <th>granularity</th>\n",
       "      <th>timestamp</th>\n",
       "      <th>views</th>\n",
       "    </tr>\n",
       "  </thead>\n",
       "  <tbody>\n",
       "    <tr>\n",
       "      <td>0</td>\n",
       "      <td>en.wikipedia</td>\n",
       "      <td>mobile-web</td>\n",
       "      <td>user</td>\n",
       "      <td>monthly</td>\n",
       "      <td>2015070100</td>\n",
       "      <td>3179131148</td>\n",
       "    </tr>\n",
       "    <tr>\n",
       "      <td>1</td>\n",
       "      <td>en.wikipedia</td>\n",
       "      <td>mobile-web</td>\n",
       "      <td>user</td>\n",
       "      <td>monthly</td>\n",
       "      <td>2015080100</td>\n",
       "      <td>3192663889</td>\n",
       "    </tr>\n",
       "    <tr>\n",
       "      <td>2</td>\n",
       "      <td>en.wikipedia</td>\n",
       "      <td>mobile-web</td>\n",
       "      <td>user</td>\n",
       "      <td>monthly</td>\n",
       "      <td>2015090100</td>\n",
       "      <td>3073981649</td>\n",
       "    </tr>\n",
       "    <tr>\n",
       "      <td>3</td>\n",
       "      <td>en.wikipedia</td>\n",
       "      <td>mobile-web</td>\n",
       "      <td>user</td>\n",
       "      <td>monthly</td>\n",
       "      <td>2015100100</td>\n",
       "      <td>3173975355</td>\n",
       "    </tr>\n",
       "    <tr>\n",
       "      <td>4</td>\n",
       "      <td>en.wikipedia</td>\n",
       "      <td>mobile-web</td>\n",
       "      <td>user</td>\n",
       "      <td>monthly</td>\n",
       "      <td>2015110100</td>\n",
       "      <td>3142247145</td>\n",
       "    </tr>\n",
       "  </tbody>\n",
       "</table>\n",
       "</div>"
      ],
      "text/plain": [
       "        project      access agent granularity   timestamp       views\n",
       "0  en.wikipedia  mobile-web  user     monthly  2015070100  3179131148\n",
       "1  en.wikipedia  mobile-web  user     monthly  2015080100  3192663889\n",
       "2  en.wikipedia  mobile-web  user     monthly  2015090100  3073981649\n",
       "3  en.wikipedia  mobile-web  user     monthly  2015100100  3173975355\n",
       "4  en.wikipedia  mobile-web  user     monthly  2015110100  3142247145"
      ]
     },
     "execution_count": 30,
     "metadata": {},
     "output_type": "execute_result"
    }
   ],
   "source": [
    "df_pageviews_mobile_web.head()"
   ]
  },
  {
   "cell_type": "markdown",
   "metadata": {},
   "source": [
    "### Inital formatting of the dataframes\n",
    "\n",
    "We want to change the views column to reflect type of view either desktop or mobile and date column to be two columns: year, and month. We will drop the other columns.\n"
   ]
  },
  {
   "cell_type": "code",
   "execution_count": 31,
   "metadata": {
    "scrolled": true
   },
   "outputs": [
    {
     "data": {
      "text/html": [
       "<div>\n",
       "<style scoped>\n",
       "    .dataframe tbody tr th:only-of-type {\n",
       "        vertical-align: middle;\n",
       "    }\n",
       "\n",
       "    .dataframe tbody tr th {\n",
       "        vertical-align: top;\n",
       "    }\n",
       "\n",
       "    .dataframe thead th {\n",
       "        text-align: right;\n",
       "    }\n",
       "</style>\n",
       "<table border=\"1\" class=\"dataframe\">\n",
       "  <thead>\n",
       "    <tr style=\"text-align: right;\">\n",
       "      <th></th>\n",
       "      <th>project</th>\n",
       "      <th>access-site</th>\n",
       "      <th>granularity</th>\n",
       "      <th>timestamp</th>\n",
       "      <th>count</th>\n",
       "    </tr>\n",
       "  </thead>\n",
       "  <tbody>\n",
       "    <tr>\n",
       "      <td>0</td>\n",
       "      <td>en.wikipedia</td>\n",
       "      <td>desktop-site</td>\n",
       "      <td>monthly</td>\n",
       "      <td>2007120100</td>\n",
       "      <td>2998331524</td>\n",
       "    </tr>\n",
       "    <tr>\n",
       "      <td>1</td>\n",
       "      <td>en.wikipedia</td>\n",
       "      <td>desktop-site</td>\n",
       "      <td>monthly</td>\n",
       "      <td>2008010100</td>\n",
       "      <td>4930902570</td>\n",
       "    </tr>\n",
       "    <tr>\n",
       "      <td>2</td>\n",
       "      <td>en.wikipedia</td>\n",
       "      <td>desktop-site</td>\n",
       "      <td>monthly</td>\n",
       "      <td>2008020100</td>\n",
       "      <td>4818393763</td>\n",
       "    </tr>\n",
       "    <tr>\n",
       "      <td>3</td>\n",
       "      <td>en.wikipedia</td>\n",
       "      <td>desktop-site</td>\n",
       "      <td>monthly</td>\n",
       "      <td>2008030100</td>\n",
       "      <td>4955405809</td>\n",
       "    </tr>\n",
       "    <tr>\n",
       "      <td>4</td>\n",
       "      <td>en.wikipedia</td>\n",
       "      <td>desktop-site</td>\n",
       "      <td>monthly</td>\n",
       "      <td>2008040100</td>\n",
       "      <td>5159162183</td>\n",
       "    </tr>\n",
       "  </tbody>\n",
       "</table>\n",
       "</div>"
      ],
      "text/plain": [
       "        project   access-site granularity   timestamp       count\n",
       "0  en.wikipedia  desktop-site     monthly  2007120100  2998331524\n",
       "1  en.wikipedia  desktop-site     monthly  2008010100  4930902570\n",
       "2  en.wikipedia  desktop-site     monthly  2008020100  4818393763\n",
       "3  en.wikipedia  desktop-site     monthly  2008030100  4955405809\n",
       "4  en.wikipedia  desktop-site     monthly  2008040100  5159162183"
      ]
     },
     "execution_count": 31,
     "metadata": {},
     "output_type": "execute_result"
    }
   ],
   "source": [
    "df_pagecount_desktop.head()"
   ]
  },
  {
   "cell_type": "markdown",
   "metadata": {},
   "source": [
    "drop 'project', 'access-site', and 'granularity' columns"
   ]
  },
  {
   "cell_type": "code",
   "execution_count": 32,
   "metadata": {},
   "outputs": [],
   "source": [
    "df_pagecount_desktop = df_pagecount_desktop.drop(['project', 'access-site', 'granularity'], axis=1)\n",
    "df_pagecount_mobile = df_pagecount_mobile.drop(['project', 'access-site', 'granularity'], axis=1)"
   ]
  },
  {
   "cell_type": "code",
   "execution_count": 33,
   "metadata": {},
   "outputs": [
    {
     "data": {
      "text/html": [
       "<div>\n",
       "<style scoped>\n",
       "    .dataframe tbody tr th:only-of-type {\n",
       "        vertical-align: middle;\n",
       "    }\n",
       "\n",
       "    .dataframe tbody tr th {\n",
       "        vertical-align: top;\n",
       "    }\n",
       "\n",
       "    .dataframe thead th {\n",
       "        text-align: right;\n",
       "    }\n",
       "</style>\n",
       "<table border=\"1\" class=\"dataframe\">\n",
       "  <thead>\n",
       "    <tr style=\"text-align: right;\">\n",
       "      <th></th>\n",
       "      <th>project</th>\n",
       "      <th>access</th>\n",
       "      <th>agent</th>\n",
       "      <th>granularity</th>\n",
       "      <th>timestamp</th>\n",
       "      <th>views</th>\n",
       "    </tr>\n",
       "  </thead>\n",
       "  <tbody>\n",
       "    <tr>\n",
       "      <td>0</td>\n",
       "      <td>en.wikipedia</td>\n",
       "      <td>desktop</td>\n",
       "      <td>user</td>\n",
       "      <td>monthly</td>\n",
       "      <td>2015070100</td>\n",
       "      <td>4376666686</td>\n",
       "    </tr>\n",
       "    <tr>\n",
       "      <td>1</td>\n",
       "      <td>en.wikipedia</td>\n",
       "      <td>desktop</td>\n",
       "      <td>user</td>\n",
       "      <td>monthly</td>\n",
       "      <td>2015080100</td>\n",
       "      <td>4332482183</td>\n",
       "    </tr>\n",
       "    <tr>\n",
       "      <td>2</td>\n",
       "      <td>en.wikipedia</td>\n",
       "      <td>desktop</td>\n",
       "      <td>user</td>\n",
       "      <td>monthly</td>\n",
       "      <td>2015090100</td>\n",
       "      <td>4485491704</td>\n",
       "    </tr>\n",
       "    <tr>\n",
       "      <td>3</td>\n",
       "      <td>en.wikipedia</td>\n",
       "      <td>desktop</td>\n",
       "      <td>user</td>\n",
       "      <td>monthly</td>\n",
       "      <td>2015100100</td>\n",
       "      <td>4477532755</td>\n",
       "    </tr>\n",
       "    <tr>\n",
       "      <td>4</td>\n",
       "      <td>en.wikipedia</td>\n",
       "      <td>desktop</td>\n",
       "      <td>user</td>\n",
       "      <td>monthly</td>\n",
       "      <td>2015110100</td>\n",
       "      <td>4287720220</td>\n",
       "    </tr>\n",
       "  </tbody>\n",
       "</table>\n",
       "</div>"
      ],
      "text/plain": [
       "        project   access agent granularity   timestamp       views\n",
       "0  en.wikipedia  desktop  user     monthly  2015070100  4376666686\n",
       "1  en.wikipedia  desktop  user     monthly  2015080100  4332482183\n",
       "2  en.wikipedia  desktop  user     monthly  2015090100  4485491704\n",
       "3  en.wikipedia  desktop  user     monthly  2015100100  4477532755\n",
       "4  en.wikipedia  desktop  user     monthly  2015110100  4287720220"
      ]
     },
     "execution_count": 33,
     "metadata": {},
     "output_type": "execute_result"
    }
   ],
   "source": [
    "df_pageviews_desktop.head()"
   ]
  },
  {
   "cell_type": "markdown",
   "metadata": {},
   "source": [
    "filter pageview dataframes so that the only agents are users"
   ]
  },
  {
   "cell_type": "code",
   "execution_count": 34,
   "metadata": {},
   "outputs": [],
   "source": [
    "only_user_desktop = df_pageviews_desktop['agent']=='user'\n",
    "df_pageviews_desktop = df_pageviews_desktop[only_user_desktop]\n",
    "\n",
    "only_user_mobile_app = df_pageviews_mobile_app['agent']=='user'\n",
    "df_pageviews_mobile_app = df_pageviews_mobile_app[only_user_mobile_app]\n",
    "\n",
    "only_user_mobile_web = df_pageviews_mobile_web['agent']=='user'\n",
    "df_pageviews_mobile_web = df_pageviews_mobile_web[only_user_mobile_web]"
   ]
  },
  {
   "cell_type": "markdown",
   "metadata": {},
   "source": [
    "from pageview dataframes drop 'project', 'access', 'agent', and 'granularity' columns"
   ]
  },
  {
   "cell_type": "code",
   "execution_count": 35,
   "metadata": {},
   "outputs": [],
   "source": [
    "df_pageviews_desktop = df_pageviews_desktop.drop(['project', 'access', 'agent','granularity'], axis=1)\n",
    "df_pageviews_mobile_app = df_pageviews_mobile_app.drop(['project', 'access', 'agent','granularity'], axis=1)\n",
    "df_pageviews_mobile_web = df_pageviews_mobile_web.drop(['project', 'access', 'agent','granularity'], axis=1)"
   ]
  },
  {
   "cell_type": "markdown",
   "metadata": {},
   "source": [
    "rename views and counts to more descriptive names for such as \"pageview_desktop_views\"..."
   ]
  },
  {
   "cell_type": "code",
   "execution_count": 36,
   "metadata": {},
   "outputs": [],
   "source": [
    "df_pagecount_desktop = df_pagecount_desktop.rename(columns={'timestamp':'timestamp', 'count':'pagecount_desktop_views'\n",
    "                                                           })\n",
    "df_pagecount_mobile = df_pagecount_mobile.rename(columns={'timestamp':'timestamp', 'count':'pagecount_mobile_views'\n",
    "                                                           })"
   ]
  },
  {
   "cell_type": "code",
   "execution_count": 37,
   "metadata": {},
   "outputs": [],
   "source": [
    "df_pageviews_desktop = df_pageviews_desktop.rename(columns={'timestamp':'timestamp', 'views':'pageview_desktop_views'\n",
    "                                                           })\n",
    "df_pageviews_mobile_app = df_pageviews_mobile_app.rename(columns={'timestamp':'timestamp', 'views':'pageview_mobile_views'\n",
    "                                                           })\n",
    "df_pageviews_mobile_web = df_pageviews_mobile_web.rename(columns={'timestamp':'timestamp', 'views':'pageview_mobile_views'\n",
    "                                                           })\n"
   ]
  },
  {
   "cell_type": "markdown",
   "metadata": {},
   "source": [
    "Inspect the data"
   ]
  },
  {
   "cell_type": "code",
   "execution_count": 38,
   "metadata": {},
   "outputs": [
    {
     "name": "stdout",
     "output_type": "stream",
     "text": [
      "    timestamp  pagecount_desktop_views\n",
      "0  2007120100               2998331524\n",
      "1  2008010100               4930902570\n",
      "2  2008020100               4818393763\n",
      "3  2008030100               4955405809\n",
      "4  2008040100               5159162183\n",
      "    timestamp  pagecount_mobile_views\n",
      "0  2014100100              3091546685\n",
      "1  2014110100              3027489668\n",
      "2  2014120100              3278950021\n",
      "3  2015010100              3485302091\n",
      "4  2015020100              3091534479\n"
     ]
    }
   ],
   "source": [
    "print(df_pagecount_desktop.head())\n",
    "print(df_pagecount_mobile.head())"
   ]
  },
  {
   "cell_type": "markdown",
   "metadata": {},
   "source": [
    "Inspect the data"
   ]
  },
  {
   "cell_type": "code",
   "execution_count": 39,
   "metadata": {},
   "outputs": [
    {
     "name": "stdout",
     "output_type": "stream",
     "text": [
      "    timestamp  pageview_desktop_views\n",
      "0  2015070100              4376666686\n",
      "1  2015080100              4332482183\n",
      "2  2015090100              4485491704\n",
      "3  2015100100              4477532755\n",
      "4  2015110100              4287720220\n",
      "    timestamp  pageview_mobile_views\n",
      "0  2015070100              109624146\n",
      "1  2015080100              109669149\n",
      "2  2015090100               96221684\n",
      "3  2015100100               94523777\n",
      "4  2015110100               94353925\n",
      "    timestamp  pageview_mobile_views\n",
      "0  2015070100             3179131148\n",
      "1  2015080100             3192663889\n",
      "2  2015090100             3073981649\n",
      "3  2015100100             3173975355\n",
      "4  2015110100             3142247145\n"
     ]
    }
   ],
   "source": [
    "print(df_pageviews_desktop.head())\n",
    "print(df_pageviews_mobile_app.head())\n",
    "print(df_pageviews_mobile_web.head())"
   ]
  },
  {
   "cell_type": "markdown",
   "metadata": {},
   "source": [
    "### merge pagecount dataframes\n",
    "\n",
    "need to use a left join as desktop date range is wider than mobile date range"
   ]
  },
  {
   "cell_type": "code",
   "execution_count": 40,
   "metadata": {},
   "outputs": [],
   "source": [
    "df_pagecounts = df_pagecount_desktop.merge(df_pagecount_mobile, how='left', left_on='timestamp', right_on='timestamp')"
   ]
  },
  {
   "cell_type": "markdown",
   "metadata": {},
   "source": [
    "replace the 'nan' in our data frame with zeros "
   ]
  },
  {
   "cell_type": "code",
   "execution_count": 41,
   "metadata": {},
   "outputs": [],
   "source": [
    "df_pagecounts = df_pagecounts.fillna(0)"
   ]
  },
  {
   "cell_type": "markdown",
   "metadata": {},
   "source": [
    "Let's inspect our data"
   ]
  },
  {
   "cell_type": "code",
   "execution_count": 42,
   "metadata": {},
   "outputs": [
    {
     "data": {
      "text/html": [
       "<div>\n",
       "<style scoped>\n",
       "    .dataframe tbody tr th:only-of-type {\n",
       "        vertical-align: middle;\n",
       "    }\n",
       "\n",
       "    .dataframe tbody tr th {\n",
       "        vertical-align: top;\n",
       "    }\n",
       "\n",
       "    .dataframe thead th {\n",
       "        text-align: right;\n",
       "    }\n",
       "</style>\n",
       "<table border=\"1\" class=\"dataframe\">\n",
       "  <thead>\n",
       "    <tr style=\"text-align: right;\">\n",
       "      <th></th>\n",
       "      <th>timestamp</th>\n",
       "      <th>pagecount_desktop_views</th>\n",
       "      <th>pagecount_mobile_views</th>\n",
       "    </tr>\n",
       "  </thead>\n",
       "  <tbody>\n",
       "    <tr>\n",
       "      <td>0</td>\n",
       "      <td>2007120100</td>\n",
       "      <td>2998331524</td>\n",
       "      <td>0.0</td>\n",
       "    </tr>\n",
       "    <tr>\n",
       "      <td>1</td>\n",
       "      <td>2008010100</td>\n",
       "      <td>4930902570</td>\n",
       "      <td>0.0</td>\n",
       "    </tr>\n",
       "    <tr>\n",
       "      <td>2</td>\n",
       "      <td>2008020100</td>\n",
       "      <td>4818393763</td>\n",
       "      <td>0.0</td>\n",
       "    </tr>\n",
       "    <tr>\n",
       "      <td>3</td>\n",
       "      <td>2008030100</td>\n",
       "      <td>4955405809</td>\n",
       "      <td>0.0</td>\n",
       "    </tr>\n",
       "    <tr>\n",
       "      <td>4</td>\n",
       "      <td>2008040100</td>\n",
       "      <td>5159162183</td>\n",
       "      <td>0.0</td>\n",
       "    </tr>\n",
       "  </tbody>\n",
       "</table>\n",
       "</div>"
      ],
      "text/plain": [
       "    timestamp  pagecount_desktop_views  pagecount_mobile_views\n",
       "0  2007120100               2998331524                     0.0\n",
       "1  2008010100               4930902570                     0.0\n",
       "2  2008020100               4818393763                     0.0\n",
       "3  2008030100               4955405809                     0.0\n",
       "4  2008040100               5159162183                     0.0"
      ]
     },
     "execution_count": 42,
     "metadata": {},
     "output_type": "execute_result"
    }
   ],
   "source": [
    "df_pagecounts.head()"
   ]
  },
  {
   "cell_type": "code",
   "execution_count": 43,
   "metadata": {},
   "outputs": [
    {
     "data": {
      "text/html": [
       "<div>\n",
       "<style scoped>\n",
       "    .dataframe tbody tr th:only-of-type {\n",
       "        vertical-align: middle;\n",
       "    }\n",
       "\n",
       "    .dataframe tbody tr th {\n",
       "        vertical-align: top;\n",
       "    }\n",
       "\n",
       "    .dataframe thead th {\n",
       "        text-align: right;\n",
       "    }\n",
       "</style>\n",
       "<table border=\"1\" class=\"dataframe\">\n",
       "  <thead>\n",
       "    <tr style=\"text-align: right;\">\n",
       "      <th></th>\n",
       "      <th>timestamp</th>\n",
       "      <th>pagecount_desktop_views</th>\n",
       "      <th>pagecount_mobile_views</th>\n",
       "    </tr>\n",
       "  </thead>\n",
       "  <tbody>\n",
       "    <tr>\n",
       "      <td>98</td>\n",
       "      <td>2016020100</td>\n",
       "      <td>5347709361</td>\n",
       "      <td>3.333231e+09</td>\n",
       "    </tr>\n",
       "    <tr>\n",
       "      <td>99</td>\n",
       "      <td>2016030100</td>\n",
       "      <td>5407676056</td>\n",
       "      <td>3.419854e+09</td>\n",
       "    </tr>\n",
       "    <tr>\n",
       "      <td>100</td>\n",
       "      <td>2016040100</td>\n",
       "      <td>5572235399</td>\n",
       "      <td>3.301385e+09</td>\n",
       "    </tr>\n",
       "    <tr>\n",
       "      <td>101</td>\n",
       "      <td>2016050100</td>\n",
       "      <td>5330532334</td>\n",
       "      <td>3.418436e+09</td>\n",
       "    </tr>\n",
       "    <tr>\n",
       "      <td>102</td>\n",
       "      <td>2016060100</td>\n",
       "      <td>4975092447</td>\n",
       "      <td>3.372618e+09</td>\n",
       "    </tr>\n",
       "  </tbody>\n",
       "</table>\n",
       "</div>"
      ],
      "text/plain": [
       "      timestamp  pagecount_desktop_views  pagecount_mobile_views\n",
       "98   2016020100               5347709361            3.333231e+09\n",
       "99   2016030100               5407676056            3.419854e+09\n",
       "100  2016040100               5572235399            3.301385e+09\n",
       "101  2016050100               5330532334            3.418436e+09\n",
       "102  2016060100               4975092447            3.372618e+09"
      ]
     },
     "execution_count": 43,
     "metadata": {},
     "output_type": "execute_result"
    }
   ],
   "source": [
    "df_pagecounts.tail()"
   ]
  },
  {
   "cell_type": "code",
   "execution_count": 44,
   "metadata": {},
   "outputs": [],
   "source": [
    "df_pagecounts['pagecount_all_views'] = df_pagecounts.sum(axis=1)"
   ]
  },
  {
   "cell_type": "code",
   "execution_count": 45,
   "metadata": {
    "scrolled": true
   },
   "outputs": [
    {
     "data": {
      "text/html": [
       "<div>\n",
       "<style scoped>\n",
       "    .dataframe tbody tr th:only-of-type {\n",
       "        vertical-align: middle;\n",
       "    }\n",
       "\n",
       "    .dataframe tbody tr th {\n",
       "        vertical-align: top;\n",
       "    }\n",
       "\n",
       "    .dataframe thead th {\n",
       "        text-align: right;\n",
       "    }\n",
       "</style>\n",
       "<table border=\"1\" class=\"dataframe\">\n",
       "  <thead>\n",
       "    <tr style=\"text-align: right;\">\n",
       "      <th></th>\n",
       "      <th>timestamp</th>\n",
       "      <th>pagecount_desktop_views</th>\n",
       "      <th>pagecount_mobile_views</th>\n",
       "      <th>pagecount_all_views</th>\n",
       "    </tr>\n",
       "  </thead>\n",
       "  <tbody>\n",
       "    <tr>\n",
       "      <td>0</td>\n",
       "      <td>2007120100</td>\n",
       "      <td>2998331524</td>\n",
       "      <td>0.0</td>\n",
       "      <td>2.998332e+09</td>\n",
       "    </tr>\n",
       "    <tr>\n",
       "      <td>1</td>\n",
       "      <td>2008010100</td>\n",
       "      <td>4930902570</td>\n",
       "      <td>0.0</td>\n",
       "      <td>4.930903e+09</td>\n",
       "    </tr>\n",
       "    <tr>\n",
       "      <td>2</td>\n",
       "      <td>2008020100</td>\n",
       "      <td>4818393763</td>\n",
       "      <td>0.0</td>\n",
       "      <td>4.818394e+09</td>\n",
       "    </tr>\n",
       "    <tr>\n",
       "      <td>3</td>\n",
       "      <td>2008030100</td>\n",
       "      <td>4955405809</td>\n",
       "      <td>0.0</td>\n",
       "      <td>4.955406e+09</td>\n",
       "    </tr>\n",
       "    <tr>\n",
       "      <td>4</td>\n",
       "      <td>2008040100</td>\n",
       "      <td>5159162183</td>\n",
       "      <td>0.0</td>\n",
       "      <td>5.159162e+09</td>\n",
       "    </tr>\n",
       "  </tbody>\n",
       "</table>\n",
       "</div>"
      ],
      "text/plain": [
       "    timestamp  pagecount_desktop_views  pagecount_mobile_views  \\\n",
       "0  2007120100               2998331524                     0.0   \n",
       "1  2008010100               4930902570                     0.0   \n",
       "2  2008020100               4818393763                     0.0   \n",
       "3  2008030100               4955405809                     0.0   \n",
       "4  2008040100               5159162183                     0.0   \n",
       "\n",
       "   pagecount_all_views  \n",
       "0         2.998332e+09  \n",
       "1         4.930903e+09  \n",
       "2         4.818394e+09  \n",
       "3         4.955406e+09  \n",
       "4         5.159162e+09  "
      ]
     },
     "execution_count": 45,
     "metadata": {},
     "output_type": "execute_result"
    }
   ],
   "source": [
    "df_pagecounts.head()"
   ]
  },
  {
   "cell_type": "markdown",
   "metadata": {},
   "source": [
    "### merge pageview dataframes\n",
    "\n",
    "pageview api data all covers same date range so we dont need a left join and can use a merge or inner join"
   ]
  },
  {
   "cell_type": "code",
   "execution_count": 46,
   "metadata": {},
   "outputs": [],
   "source": [
    "df_pageviews_all_mobile = df_pageviews_mobile_app.merge(df_pageviews_mobile_web, left_on='timestamp', right_on='timestamp')"
   ]
  },
  {
   "cell_type": "code",
   "execution_count": 47,
   "metadata": {},
   "outputs": [
    {
     "data": {
      "text/html": [
       "<div>\n",
       "<style scoped>\n",
       "    .dataframe tbody tr th:only-of-type {\n",
       "        vertical-align: middle;\n",
       "    }\n",
       "\n",
       "    .dataframe tbody tr th {\n",
       "        vertical-align: top;\n",
       "    }\n",
       "\n",
       "    .dataframe thead th {\n",
       "        text-align: right;\n",
       "    }\n",
       "</style>\n",
       "<table border=\"1\" class=\"dataframe\">\n",
       "  <thead>\n",
       "    <tr style=\"text-align: right;\">\n",
       "      <th></th>\n",
       "      <th>timestamp</th>\n",
       "      <th>pageview_mobile_views_x</th>\n",
       "      <th>pageview_mobile_views_y</th>\n",
       "    </tr>\n",
       "  </thead>\n",
       "  <tbody>\n",
       "    <tr>\n",
       "      <td>0</td>\n",
       "      <td>2015070100</td>\n",
       "      <td>109624146</td>\n",
       "      <td>3179131148</td>\n",
       "    </tr>\n",
       "    <tr>\n",
       "      <td>1</td>\n",
       "      <td>2015080100</td>\n",
       "      <td>109669149</td>\n",
       "      <td>3192663889</td>\n",
       "    </tr>\n",
       "    <tr>\n",
       "      <td>2</td>\n",
       "      <td>2015090100</td>\n",
       "      <td>96221684</td>\n",
       "      <td>3073981649</td>\n",
       "    </tr>\n",
       "    <tr>\n",
       "      <td>3</td>\n",
       "      <td>2015100100</td>\n",
       "      <td>94523777</td>\n",
       "      <td>3173975355</td>\n",
       "    </tr>\n",
       "    <tr>\n",
       "      <td>4</td>\n",
       "      <td>2015110100</td>\n",
       "      <td>94353925</td>\n",
       "      <td>3142247145</td>\n",
       "    </tr>\n",
       "  </tbody>\n",
       "</table>\n",
       "</div>"
      ],
      "text/plain": [
       "    timestamp  pageview_mobile_views_x  pageview_mobile_views_y\n",
       "0  2015070100                109624146               3179131148\n",
       "1  2015080100                109669149               3192663889\n",
       "2  2015090100                 96221684               3073981649\n",
       "3  2015100100                 94523777               3173975355\n",
       "4  2015110100                 94353925               3142247145"
      ]
     },
     "execution_count": 47,
     "metadata": {},
     "output_type": "execute_result"
    }
   ],
   "source": [
    "df_pageviews_all_mobile.head()"
   ]
  },
  {
   "cell_type": "markdown",
   "metadata": {},
   "source": [
    "Create the \"all views\" column"
   ]
  },
  {
   "cell_type": "code",
   "execution_count": 48,
   "metadata": {},
   "outputs": [],
   "source": [
    "df_pageviews_all_mobile['pageview_mobile_views'] = df_pageviews_all_mobile.sum(axis=1)"
   ]
  },
  {
   "cell_type": "markdown",
   "metadata": {},
   "source": [
    "drop the mobile app and web data i.e. the x and y data"
   ]
  },
  {
   "cell_type": "code",
   "execution_count": 49,
   "metadata": {},
   "outputs": [],
   "source": [
    "df_pageviews_all_mobile = df_pageviews_all_mobile.drop(['pageview_mobile_views_x', 'pageview_mobile_views_y'], axis=1)"
   ]
  },
  {
   "cell_type": "markdown",
   "metadata": {},
   "source": [
    "inspect our dataframe"
   ]
  },
  {
   "cell_type": "code",
   "execution_count": 50,
   "metadata": {},
   "outputs": [
    {
     "data": {
      "text/html": [
       "<div>\n",
       "<style scoped>\n",
       "    .dataframe tbody tr th:only-of-type {\n",
       "        vertical-align: middle;\n",
       "    }\n",
       "\n",
       "    .dataframe tbody tr th {\n",
       "        vertical-align: top;\n",
       "    }\n",
       "\n",
       "    .dataframe thead th {\n",
       "        text-align: right;\n",
       "    }\n",
       "</style>\n",
       "<table border=\"1\" class=\"dataframe\">\n",
       "  <thead>\n",
       "    <tr style=\"text-align: right;\">\n",
       "      <th></th>\n",
       "      <th>timestamp</th>\n",
       "      <th>pageview_mobile_views</th>\n",
       "    </tr>\n",
       "  </thead>\n",
       "  <tbody>\n",
       "    <tr>\n",
       "      <td>0</td>\n",
       "      <td>2015070100</td>\n",
       "      <td>3288755294</td>\n",
       "    </tr>\n",
       "    <tr>\n",
       "      <td>1</td>\n",
       "      <td>2015080100</td>\n",
       "      <td>3302333038</td>\n",
       "    </tr>\n",
       "    <tr>\n",
       "      <td>2</td>\n",
       "      <td>2015090100</td>\n",
       "      <td>3170203333</td>\n",
       "    </tr>\n",
       "    <tr>\n",
       "      <td>3</td>\n",
       "      <td>2015100100</td>\n",
       "      <td>3268499132</td>\n",
       "    </tr>\n",
       "    <tr>\n",
       "      <td>4</td>\n",
       "      <td>2015110100</td>\n",
       "      <td>3236601070</td>\n",
       "    </tr>\n",
       "  </tbody>\n",
       "</table>\n",
       "</div>"
      ],
      "text/plain": [
       "    timestamp  pageview_mobile_views\n",
       "0  2015070100             3288755294\n",
       "1  2015080100             3302333038\n",
       "2  2015090100             3170203333\n",
       "3  2015100100             3268499132\n",
       "4  2015110100             3236601070"
      ]
     },
     "execution_count": 50,
     "metadata": {},
     "output_type": "execute_result"
    }
   ],
   "source": [
    "df_pageviews_all_mobile.head()"
   ]
  },
  {
   "cell_type": "markdown",
   "metadata": {},
   "source": [
    "We are merging the mobile app and web data"
   ]
  },
  {
   "cell_type": "code",
   "execution_count": 51,
   "metadata": {},
   "outputs": [],
   "source": [
    "df_pageviews = df_pageviews_all_mobile.merge(df_pageviews_desktop, left_on='timestamp', right_on='timestamp')"
   ]
  },
  {
   "cell_type": "markdown",
   "metadata": {},
   "source": [
    "let's see our dataframe"
   ]
  },
  {
   "cell_type": "code",
   "execution_count": 52,
   "metadata": {},
   "outputs": [
    {
     "data": {
      "text/html": [
       "<div>\n",
       "<style scoped>\n",
       "    .dataframe tbody tr th:only-of-type {\n",
       "        vertical-align: middle;\n",
       "    }\n",
       "\n",
       "    .dataframe tbody tr th {\n",
       "        vertical-align: top;\n",
       "    }\n",
       "\n",
       "    .dataframe thead th {\n",
       "        text-align: right;\n",
       "    }\n",
       "</style>\n",
       "<table border=\"1\" class=\"dataframe\">\n",
       "  <thead>\n",
       "    <tr style=\"text-align: right;\">\n",
       "      <th></th>\n",
       "      <th>timestamp</th>\n",
       "      <th>pageview_mobile_views</th>\n",
       "      <th>pageview_desktop_views</th>\n",
       "    </tr>\n",
       "  </thead>\n",
       "  <tbody>\n",
       "    <tr>\n",
       "      <td>0</td>\n",
       "      <td>2015070100</td>\n",
       "      <td>3288755294</td>\n",
       "      <td>4376666686</td>\n",
       "    </tr>\n",
       "    <tr>\n",
       "      <td>1</td>\n",
       "      <td>2015080100</td>\n",
       "      <td>3302333038</td>\n",
       "      <td>4332482183</td>\n",
       "    </tr>\n",
       "    <tr>\n",
       "      <td>2</td>\n",
       "      <td>2015090100</td>\n",
       "      <td>3170203333</td>\n",
       "      <td>4485491704</td>\n",
       "    </tr>\n",
       "    <tr>\n",
       "      <td>3</td>\n",
       "      <td>2015100100</td>\n",
       "      <td>3268499132</td>\n",
       "      <td>4477532755</td>\n",
       "    </tr>\n",
       "    <tr>\n",
       "      <td>4</td>\n",
       "      <td>2015110100</td>\n",
       "      <td>3236601070</td>\n",
       "      <td>4287720220</td>\n",
       "    </tr>\n",
       "  </tbody>\n",
       "</table>\n",
       "</div>"
      ],
      "text/plain": [
       "    timestamp  pageview_mobile_views  pageview_desktop_views\n",
       "0  2015070100             3288755294              4376666686\n",
       "1  2015080100             3302333038              4332482183\n",
       "2  2015090100             3170203333              4485491704\n",
       "3  2015100100             3268499132              4477532755\n",
       "4  2015110100             3236601070              4287720220"
      ]
     },
     "execution_count": 52,
     "metadata": {},
     "output_type": "execute_result"
    }
   ],
   "source": [
    "df_pageviews.head()"
   ]
  },
  {
   "cell_type": "markdown",
   "metadata": {},
   "source": [
    "Create the \"all views\" column"
   ]
  },
  {
   "cell_type": "code",
   "execution_count": 53,
   "metadata": {},
   "outputs": [],
   "source": [
    "df_pageviews['pageview_all_views'] = df_pageviews.sum(axis=1)"
   ]
  },
  {
   "cell_type": "markdown",
   "metadata": {},
   "source": [
    "Let's see our dataframe"
   ]
  },
  {
   "cell_type": "code",
   "execution_count": 54,
   "metadata": {},
   "outputs": [
    {
     "data": {
      "text/html": [
       "<div>\n",
       "<style scoped>\n",
       "    .dataframe tbody tr th:only-of-type {\n",
       "        vertical-align: middle;\n",
       "    }\n",
       "\n",
       "    .dataframe tbody tr th {\n",
       "        vertical-align: top;\n",
       "    }\n",
       "\n",
       "    .dataframe thead th {\n",
       "        text-align: right;\n",
       "    }\n",
       "</style>\n",
       "<table border=\"1\" class=\"dataframe\">\n",
       "  <thead>\n",
       "    <tr style=\"text-align: right;\">\n",
       "      <th></th>\n",
       "      <th>timestamp</th>\n",
       "      <th>pageview_mobile_views</th>\n",
       "      <th>pageview_desktop_views</th>\n",
       "      <th>pageview_all_views</th>\n",
       "    </tr>\n",
       "  </thead>\n",
       "  <tbody>\n",
       "    <tr>\n",
       "      <td>0</td>\n",
       "      <td>2015070100</td>\n",
       "      <td>3288755294</td>\n",
       "      <td>4376666686</td>\n",
       "      <td>7665421980</td>\n",
       "    </tr>\n",
       "    <tr>\n",
       "      <td>1</td>\n",
       "      <td>2015080100</td>\n",
       "      <td>3302333038</td>\n",
       "      <td>4332482183</td>\n",
       "      <td>7634815221</td>\n",
       "    </tr>\n",
       "    <tr>\n",
       "      <td>2</td>\n",
       "      <td>2015090100</td>\n",
       "      <td>3170203333</td>\n",
       "      <td>4485491704</td>\n",
       "      <td>7655695037</td>\n",
       "    </tr>\n",
       "    <tr>\n",
       "      <td>3</td>\n",
       "      <td>2015100100</td>\n",
       "      <td>3268499132</td>\n",
       "      <td>4477532755</td>\n",
       "      <td>7746031887</td>\n",
       "    </tr>\n",
       "    <tr>\n",
       "      <td>4</td>\n",
       "      <td>2015110100</td>\n",
       "      <td>3236601070</td>\n",
       "      <td>4287720220</td>\n",
       "      <td>7524321290</td>\n",
       "    </tr>\n",
       "  </tbody>\n",
       "</table>\n",
       "</div>"
      ],
      "text/plain": [
       "    timestamp  pageview_mobile_views  pageview_desktop_views  \\\n",
       "0  2015070100             3288755294              4376666686   \n",
       "1  2015080100             3302333038              4332482183   \n",
       "2  2015090100             3170203333              4485491704   \n",
       "3  2015100100             3268499132              4477532755   \n",
       "4  2015110100             3236601070              4287720220   \n",
       "\n",
       "   pageview_all_views  \n",
       "0          7665421980  \n",
       "1          7634815221  \n",
       "2          7655695037  \n",
       "3          7746031887  \n",
       "4          7524321290  "
      ]
     },
     "execution_count": 54,
     "metadata": {},
     "output_type": "execute_result"
    }
   ],
   "source": [
    "df_pageviews.head()"
   ]
  },
  {
   "cell_type": "markdown",
   "metadata": {},
   "source": [
    "### merge pageview and pagecount data frames\n",
    "\n",
    "These dataframes cover different time ranges so we need an outer join"
   ]
  },
  {
   "cell_type": "code",
   "execution_count": 55,
   "metadata": {},
   "outputs": [],
   "source": [
    "df_traffic = df_pagecounts.merge(df_pageviews, how='outer')"
   ]
  },
  {
   "cell_type": "markdown",
   "metadata": {},
   "source": [
    "replace the 'nan' with zeros"
   ]
  },
  {
   "cell_type": "code",
   "execution_count": 56,
   "metadata": {},
   "outputs": [],
   "source": [
    "df_traffic = df_traffic.fillna(0)"
   ]
  },
  {
   "cell_type": "markdown",
   "metadata": {},
   "source": [
    "let's inspect our dataframe"
   ]
  },
  {
   "cell_type": "code",
   "execution_count": 57,
   "metadata": {},
   "outputs": [
    {
     "data": {
      "text/html": [
       "<div>\n",
       "<style scoped>\n",
       "    .dataframe tbody tr th:only-of-type {\n",
       "        vertical-align: middle;\n",
       "    }\n",
       "\n",
       "    .dataframe tbody tr th {\n",
       "        vertical-align: top;\n",
       "    }\n",
       "\n",
       "    .dataframe thead th {\n",
       "        text-align: right;\n",
       "    }\n",
       "</style>\n",
       "<table border=\"1\" class=\"dataframe\">\n",
       "  <thead>\n",
       "    <tr style=\"text-align: right;\">\n",
       "      <th></th>\n",
       "      <th>timestamp</th>\n",
       "      <th>pagecount_desktop_views</th>\n",
       "      <th>pagecount_mobile_views</th>\n",
       "      <th>pagecount_all_views</th>\n",
       "      <th>pageview_mobile_views</th>\n",
       "      <th>pageview_desktop_views</th>\n",
       "      <th>pageview_all_views</th>\n",
       "    </tr>\n",
       "  </thead>\n",
       "  <tbody>\n",
       "    <tr>\n",
       "      <td>0</td>\n",
       "      <td>2007120100</td>\n",
       "      <td>2.998332e+09</td>\n",
       "      <td>0.0</td>\n",
       "      <td>2.998332e+09</td>\n",
       "      <td>0.0</td>\n",
       "      <td>0.0</td>\n",
       "      <td>0.0</td>\n",
       "    </tr>\n",
       "    <tr>\n",
       "      <td>1</td>\n",
       "      <td>2008010100</td>\n",
       "      <td>4.930903e+09</td>\n",
       "      <td>0.0</td>\n",
       "      <td>4.930903e+09</td>\n",
       "      <td>0.0</td>\n",
       "      <td>0.0</td>\n",
       "      <td>0.0</td>\n",
       "    </tr>\n",
       "    <tr>\n",
       "      <td>2</td>\n",
       "      <td>2008020100</td>\n",
       "      <td>4.818394e+09</td>\n",
       "      <td>0.0</td>\n",
       "      <td>4.818394e+09</td>\n",
       "      <td>0.0</td>\n",
       "      <td>0.0</td>\n",
       "      <td>0.0</td>\n",
       "    </tr>\n",
       "    <tr>\n",
       "      <td>3</td>\n",
       "      <td>2008030100</td>\n",
       "      <td>4.955406e+09</td>\n",
       "      <td>0.0</td>\n",
       "      <td>4.955406e+09</td>\n",
       "      <td>0.0</td>\n",
       "      <td>0.0</td>\n",
       "      <td>0.0</td>\n",
       "    </tr>\n",
       "    <tr>\n",
       "      <td>4</td>\n",
       "      <td>2008040100</td>\n",
       "      <td>5.159162e+09</td>\n",
       "      <td>0.0</td>\n",
       "      <td>5.159162e+09</td>\n",
       "      <td>0.0</td>\n",
       "      <td>0.0</td>\n",
       "      <td>0.0</td>\n",
       "    </tr>\n",
       "  </tbody>\n",
       "</table>\n",
       "</div>"
      ],
      "text/plain": [
       "    timestamp  pagecount_desktop_views  pagecount_mobile_views  \\\n",
       "0  2007120100             2.998332e+09                     0.0   \n",
       "1  2008010100             4.930903e+09                     0.0   \n",
       "2  2008020100             4.818394e+09                     0.0   \n",
       "3  2008030100             4.955406e+09                     0.0   \n",
       "4  2008040100             5.159162e+09                     0.0   \n",
       "\n",
       "   pagecount_all_views  pageview_mobile_views  pageview_desktop_views  \\\n",
       "0         2.998332e+09                    0.0                     0.0   \n",
       "1         4.930903e+09                    0.0                     0.0   \n",
       "2         4.818394e+09                    0.0                     0.0   \n",
       "3         4.955406e+09                    0.0                     0.0   \n",
       "4         5.159162e+09                    0.0                     0.0   \n",
       "\n",
       "   pageview_all_views  \n",
       "0                 0.0  \n",
       "1                 0.0  \n",
       "2                 0.0  \n",
       "3                 0.0  \n",
       "4                 0.0  "
      ]
     },
     "execution_count": 57,
     "metadata": {},
     "output_type": "execute_result"
    }
   ],
   "source": [
    "df_traffic.head()"
   ]
  },
  {
   "cell_type": "markdown",
   "metadata": {},
   "source": [
    "change timestamp to datetime object so we can easily extract year and month data"
   ]
  },
  {
   "cell_type": "code",
   "execution_count": 58,
   "metadata": {},
   "outputs": [],
   "source": [
    "df_traffic['timestamp'] = pd.to_datetime(df_traffic['timestamp'], format='%Y%m%d%H')"
   ]
  },
  {
   "cell_type": "markdown",
   "metadata": {},
   "source": [
    "create the year column"
   ]
  },
  {
   "cell_type": "code",
   "execution_count": 59,
   "metadata": {},
   "outputs": [],
   "source": [
    "df_traffic['year'] = pd.DatetimeIndex(df_traffic['timestamp']).year"
   ]
  },
  {
   "cell_type": "markdown",
   "metadata": {},
   "source": [
    "create the month column"
   ]
  },
  {
   "cell_type": "code",
   "execution_count": 60,
   "metadata": {},
   "outputs": [],
   "source": [
    "df_traffic['month'] = pd.DatetimeIndex(df_traffic['timestamp']).month"
   ]
  },
  {
   "cell_type": "markdown",
   "metadata": {},
   "source": [
    "save this dataframe for latter as it will make visualization easier if we have a datatime col"
   ]
  },
  {
   "cell_type": "code",
   "execution_count": 61,
   "metadata": {},
   "outputs": [],
   "source": [
    "df_traffic_timestamp = df_traffic #save for latter as it will make visualization easier if we have a datatime col"
   ]
  },
  {
   "cell_type": "markdown",
   "metadata": {},
   "source": [
    "drop the 'timestamp' column"
   ]
  },
  {
   "cell_type": "code",
   "execution_count": 62,
   "metadata": {},
   "outputs": [],
   "source": [
    "df_traffic = df_traffic.drop(['timestamp'], axis=1)"
   ]
  },
  {
   "cell_type": "markdown",
   "metadata": {},
   "source": [
    "make the data int64 type"
   ]
  },
  {
   "cell_type": "code",
   "execution_count": 63,
   "metadata": {},
   "outputs": [],
   "source": [
    "df_traffic = df_traffic.astype('int64')"
   ]
  },
  {
   "cell_type": "markdown",
   "metadata": {},
   "source": [
    "to make zero padded months"
   ]
  },
  {
   "cell_type": "code",
   "execution_count": 64,
   "metadata": {},
   "outputs": [],
   "source": [
    "df_traffic[\"month\"] = df_traffic['month'].map(\"{:02}\".format)"
   ]
  },
  {
   "cell_type": "markdown",
   "metadata": {},
   "source": [
    "inspect the dataframe"
   ]
  },
  {
   "cell_type": "code",
   "execution_count": 65,
   "metadata": {},
   "outputs": [
    {
     "data": {
      "text/html": [
       "<div>\n",
       "<style scoped>\n",
       "    .dataframe tbody tr th:only-of-type {\n",
       "        vertical-align: middle;\n",
       "    }\n",
       "\n",
       "    .dataframe tbody tr th {\n",
       "        vertical-align: top;\n",
       "    }\n",
       "\n",
       "    .dataframe thead th {\n",
       "        text-align: right;\n",
       "    }\n",
       "</style>\n",
       "<table border=\"1\" class=\"dataframe\">\n",
       "  <thead>\n",
       "    <tr style=\"text-align: right;\">\n",
       "      <th></th>\n",
       "      <th>pagecount_desktop_views</th>\n",
       "      <th>pagecount_mobile_views</th>\n",
       "      <th>pagecount_all_views</th>\n",
       "      <th>pageview_mobile_views</th>\n",
       "      <th>pageview_desktop_views</th>\n",
       "      <th>pageview_all_views</th>\n",
       "      <th>year</th>\n",
       "      <th>month</th>\n",
       "    </tr>\n",
       "  </thead>\n",
       "  <tbody>\n",
       "    <tr>\n",
       "      <td>0</td>\n",
       "      <td>2998331524</td>\n",
       "      <td>0</td>\n",
       "      <td>2998331524</td>\n",
       "      <td>0</td>\n",
       "      <td>0</td>\n",
       "      <td>0</td>\n",
       "      <td>2007</td>\n",
       "      <td>12</td>\n",
       "    </tr>\n",
       "    <tr>\n",
       "      <td>1</td>\n",
       "      <td>4930902570</td>\n",
       "      <td>0</td>\n",
       "      <td>4930902570</td>\n",
       "      <td>0</td>\n",
       "      <td>0</td>\n",
       "      <td>0</td>\n",
       "      <td>2008</td>\n",
       "      <td>01</td>\n",
       "    </tr>\n",
       "    <tr>\n",
       "      <td>2</td>\n",
       "      <td>4818393763</td>\n",
       "      <td>0</td>\n",
       "      <td>4818393763</td>\n",
       "      <td>0</td>\n",
       "      <td>0</td>\n",
       "      <td>0</td>\n",
       "      <td>2008</td>\n",
       "      <td>02</td>\n",
       "    </tr>\n",
       "    <tr>\n",
       "      <td>3</td>\n",
       "      <td>4955405809</td>\n",
       "      <td>0</td>\n",
       "      <td>4955405809</td>\n",
       "      <td>0</td>\n",
       "      <td>0</td>\n",
       "      <td>0</td>\n",
       "      <td>2008</td>\n",
       "      <td>03</td>\n",
       "    </tr>\n",
       "    <tr>\n",
       "      <td>4</td>\n",
       "      <td>5159162183</td>\n",
       "      <td>0</td>\n",
       "      <td>5159162183</td>\n",
       "      <td>0</td>\n",
       "      <td>0</td>\n",
       "      <td>0</td>\n",
       "      <td>2008</td>\n",
       "      <td>04</td>\n",
       "    </tr>\n",
       "    <tr>\n",
       "      <td>...</td>\n",
       "      <td>...</td>\n",
       "      <td>...</td>\n",
       "      <td>...</td>\n",
       "      <td>...</td>\n",
       "      <td>...</td>\n",
       "      <td>...</td>\n",
       "      <td>...</td>\n",
       "      <td>...</td>\n",
       "    </tr>\n",
       "    <tr>\n",
       "      <td>149</td>\n",
       "      <td>0</td>\n",
       "      <td>0</td>\n",
       "      <td>0</td>\n",
       "      <td>5231700095</td>\n",
       "      <td>3078093615</td>\n",
       "      <td>8309793710</td>\n",
       "      <td>2020</td>\n",
       "      <td>05</td>\n",
       "    </tr>\n",
       "    <tr>\n",
       "      <td>150</td>\n",
       "      <td>0</td>\n",
       "      <td>0</td>\n",
       "      <td>0</td>\n",
       "      <td>4573975256</td>\n",
       "      <td>2721328557</td>\n",
       "      <td>7295303813</td>\n",
       "      <td>2020</td>\n",
       "      <td>06</td>\n",
       "    </tr>\n",
       "    <tr>\n",
       "      <td>151</td>\n",
       "      <td>0</td>\n",
       "      <td>0</td>\n",
       "      <td>0</td>\n",
       "      <td>4809714465</td>\n",
       "      <td>2638936132</td>\n",
       "      <td>7448650597</td>\n",
       "      <td>2020</td>\n",
       "      <td>07</td>\n",
       "    </tr>\n",
       "    <tr>\n",
       "      <td>152</td>\n",
       "      <td>0</td>\n",
       "      <td>0</td>\n",
       "      <td>0</td>\n",
       "      <td>4803308661</td>\n",
       "      <td>2613058239</td>\n",
       "      <td>7416366900</td>\n",
       "      <td>2020</td>\n",
       "      <td>08</td>\n",
       "    </tr>\n",
       "    <tr>\n",
       "      <td>153</td>\n",
       "      <td>0</td>\n",
       "      <td>0</td>\n",
       "      <td>0</td>\n",
       "      <td>4492250780</td>\n",
       "      <td>2661783500</td>\n",
       "      <td>7154034280</td>\n",
       "      <td>2020</td>\n",
       "      <td>09</td>\n",
       "    </tr>\n",
       "  </tbody>\n",
       "</table>\n",
       "<p>154 rows × 8 columns</p>\n",
       "</div>"
      ],
      "text/plain": [
       "     pagecount_desktop_views  pagecount_mobile_views  pagecount_all_views  \\\n",
       "0                 2998331524                       0           2998331524   \n",
       "1                 4930902570                       0           4930902570   \n",
       "2                 4818393763                       0           4818393763   \n",
       "3                 4955405809                       0           4955405809   \n",
       "4                 5159162183                       0           5159162183   \n",
       "..                       ...                     ...                  ...   \n",
       "149                        0                       0                    0   \n",
       "150                        0                       0                    0   \n",
       "151                        0                       0                    0   \n",
       "152                        0                       0                    0   \n",
       "153                        0                       0                    0   \n",
       "\n",
       "     pageview_mobile_views  pageview_desktop_views  pageview_all_views  year  \\\n",
       "0                        0                       0                   0  2007   \n",
       "1                        0                       0                   0  2008   \n",
       "2                        0                       0                   0  2008   \n",
       "3                        0                       0                   0  2008   \n",
       "4                        0                       0                   0  2008   \n",
       "..                     ...                     ...                 ...   ...   \n",
       "149             5231700095              3078093615          8309793710  2020   \n",
       "150             4573975256              2721328557          7295303813  2020   \n",
       "151             4809714465              2638936132          7448650597  2020   \n",
       "152             4803308661              2613058239          7416366900  2020   \n",
       "153             4492250780              2661783500          7154034280  2020   \n",
       "\n",
       "    month  \n",
       "0      12  \n",
       "1      01  \n",
       "2      02  \n",
       "3      03  \n",
       "4      04  \n",
       "..    ...  \n",
       "149    05  \n",
       "150    06  \n",
       "151    07  \n",
       "152    08  \n",
       "153    09  \n",
       "\n",
       "[154 rows x 8 columns]"
      ]
     },
     "execution_count": 65,
     "metadata": {},
     "output_type": "execute_result"
    }
   ],
   "source": [
    "df_traffic"
   ]
  },
  {
   "cell_type": "markdown",
   "metadata": {},
   "source": [
    "### Create CSV file from our combined dataframe"
   ]
  },
  {
   "cell_type": "code",
   "execution_count": 66,
   "metadata": {},
   "outputs": [],
   "source": [
    "df_traffic.to_csv(r'en-wikipedia_traffic_200712-202009.csv', index = False)"
   ]
  },
  {
   "cell_type": "markdown",
   "metadata": {},
   "source": [
    "# Generate and save the visualization"
   ]
  },
  {
   "cell_type": "code",
   "execution_count": 67,
   "metadata": {},
   "outputs": [],
   "source": [
    "import matplotlib.pyplot as plt\n",
    "import numpy as np"
   ]
  },
  {
   "cell_type": "markdown",
   "metadata": {},
   "source": [
    "make values smaller to increase legibility of visualization"
   ]
  },
  {
   "cell_type": "code",
   "execution_count": 68,
   "metadata": {},
   "outputs": [],
   "source": [
    "df_traffic_timestamp[['pagecount_desktop_views', 'pagecount_mobile_views',\n",
    "       'pagecount_all_views', 'pageview_mobile_views',\n",
    "       'pageview_desktop_views', 'pageview_all_views']] = df_traffic_timestamp[['pagecount_desktop_views', 'pagecount_mobile_views',\n",
    "       'pagecount_all_views', 'pageview_mobile_views',\n",
    "       'pageview_desktop_views', 'pageview_all_views']].div(1000000)"
   ]
  },
  {
   "cell_type": "markdown",
   "metadata": {},
   "source": [
    "convert data types to integers"
   ]
  },
  {
   "cell_type": "code",
   "execution_count": 69,
   "metadata": {},
   "outputs": [],
   "source": [
    "df_traffic_timestamp = df_traffic_timestamp.astype({'pagecount_desktop_views':'int64', 'pagecount_mobile_views':'int64',\n",
    "       'pagecount_all_views':'int64', 'pageview_mobile_views':'int64',\n",
    "       'pageview_desktop_views':'int64', 'pageview_all_views':'int64'})"
   ]
  },
  {
   "cell_type": "markdown",
   "metadata": {},
   "source": [
    "remove zero values to clean up visualization"
   ]
  },
  {
   "cell_type": "code",
   "execution_count": 70,
   "metadata": {},
   "outputs": [
    {
     "data": {
      "text/html": [
       "<div>\n",
       "<style scoped>\n",
       "    .dataframe tbody tr th:only-of-type {\n",
       "        vertical-align: middle;\n",
       "    }\n",
       "\n",
       "    .dataframe tbody tr th {\n",
       "        vertical-align: top;\n",
       "    }\n",
       "\n",
       "    .dataframe thead th {\n",
       "        text-align: right;\n",
       "    }\n",
       "</style>\n",
       "<table border=\"1\" class=\"dataframe\">\n",
       "  <thead>\n",
       "    <tr style=\"text-align: right;\">\n",
       "      <th></th>\n",
       "      <th>timestamp</th>\n",
       "      <th>pagecount_desktop_views</th>\n",
       "      <th>pagecount_mobile_views</th>\n",
       "      <th>pagecount_all_views</th>\n",
       "      <th>pageview_mobile_views</th>\n",
       "      <th>pageview_desktop_views</th>\n",
       "      <th>pageview_all_views</th>\n",
       "      <th>year</th>\n",
       "      <th>month</th>\n",
       "    </tr>\n",
       "  </thead>\n",
       "  <tbody>\n",
       "    <tr>\n",
       "      <td>0</td>\n",
       "      <td>2007-12-01</td>\n",
       "      <td>2998</td>\n",
       "      <td>0</td>\n",
       "      <td>2998</td>\n",
       "      <td>0</td>\n",
       "      <td>0</td>\n",
       "      <td>0</td>\n",
       "      <td>2007</td>\n",
       "      <td>12</td>\n",
       "    </tr>\n",
       "    <tr>\n",
       "      <td>1</td>\n",
       "      <td>2008-01-01</td>\n",
       "      <td>4930</td>\n",
       "      <td>0</td>\n",
       "      <td>4930</td>\n",
       "      <td>0</td>\n",
       "      <td>0</td>\n",
       "      <td>0</td>\n",
       "      <td>2008</td>\n",
       "      <td>1</td>\n",
       "    </tr>\n",
       "    <tr>\n",
       "      <td>2</td>\n",
       "      <td>2008-02-01</td>\n",
       "      <td>4818</td>\n",
       "      <td>0</td>\n",
       "      <td>4818</td>\n",
       "      <td>0</td>\n",
       "      <td>0</td>\n",
       "      <td>0</td>\n",
       "      <td>2008</td>\n",
       "      <td>2</td>\n",
       "    </tr>\n",
       "    <tr>\n",
       "      <td>3</td>\n",
       "      <td>2008-03-01</td>\n",
       "      <td>4955</td>\n",
       "      <td>0</td>\n",
       "      <td>4955</td>\n",
       "      <td>0</td>\n",
       "      <td>0</td>\n",
       "      <td>0</td>\n",
       "      <td>2008</td>\n",
       "      <td>3</td>\n",
       "    </tr>\n",
       "    <tr>\n",
       "      <td>4</td>\n",
       "      <td>2008-04-01</td>\n",
       "      <td>5159</td>\n",
       "      <td>0</td>\n",
       "      <td>5159</td>\n",
       "      <td>0</td>\n",
       "      <td>0</td>\n",
       "      <td>0</td>\n",
       "      <td>2008</td>\n",
       "      <td>4</td>\n",
       "    </tr>\n",
       "  </tbody>\n",
       "</table>\n",
       "</div>"
      ],
      "text/plain": [
       "   timestamp  pagecount_desktop_views  pagecount_mobile_views  \\\n",
       "0 2007-12-01                     2998                       0   \n",
       "1 2008-01-01                     4930                       0   \n",
       "2 2008-02-01                     4818                       0   \n",
       "3 2008-03-01                     4955                       0   \n",
       "4 2008-04-01                     5159                       0   \n",
       "\n",
       "   pagecount_all_views  pageview_mobile_views  pageview_desktop_views  \\\n",
       "0                 2998                      0                       0   \n",
       "1                 4930                      0                       0   \n",
       "2                 4818                      0                       0   \n",
       "3                 4955                      0                       0   \n",
       "4                 5159                      0                       0   \n",
       "\n",
       "   pageview_all_views  year  month  \n",
       "0                   0  2007     12  \n",
       "1                   0  2008      1  \n",
       "2                   0  2008      2  \n",
       "3                   0  2008      3  \n",
       "4                   0  2008      4  "
      ]
     },
     "execution_count": 70,
     "metadata": {},
     "output_type": "execute_result"
    }
   ],
   "source": [
    "drop_rows = df_traffic_timestamp['pagecount_desktop_views']!=0\n",
    "df_traffic_timestamp_pagecount_desktop = df_traffic_timestamp[drop_rows]\n",
    "df_traffic_timestamp_pagecount_desktop.head()"
   ]
  },
  {
   "cell_type": "markdown",
   "metadata": {},
   "source": [
    "remove zero values to clean up visualization"
   ]
  },
  {
   "cell_type": "code",
   "execution_count": 71,
   "metadata": {},
   "outputs": [
    {
     "data": {
      "text/html": [
       "<div>\n",
       "<style scoped>\n",
       "    .dataframe tbody tr th:only-of-type {\n",
       "        vertical-align: middle;\n",
       "    }\n",
       "\n",
       "    .dataframe tbody tr th {\n",
       "        vertical-align: top;\n",
       "    }\n",
       "\n",
       "    .dataframe thead th {\n",
       "        text-align: right;\n",
       "    }\n",
       "</style>\n",
       "<table border=\"1\" class=\"dataframe\">\n",
       "  <thead>\n",
       "    <tr style=\"text-align: right;\">\n",
       "      <th></th>\n",
       "      <th>timestamp</th>\n",
       "      <th>pagecount_desktop_views</th>\n",
       "      <th>pagecount_mobile_views</th>\n",
       "      <th>pagecount_all_views</th>\n",
       "      <th>pageview_mobile_views</th>\n",
       "      <th>pageview_desktop_views</th>\n",
       "      <th>pageview_all_views</th>\n",
       "      <th>year</th>\n",
       "      <th>month</th>\n",
       "    </tr>\n",
       "  </thead>\n",
       "  <tbody>\n",
       "    <tr>\n",
       "      <td>82</td>\n",
       "      <td>2014-10-01</td>\n",
       "      <td>6577</td>\n",
       "      <td>3091</td>\n",
       "      <td>9669</td>\n",
       "      <td>0</td>\n",
       "      <td>0</td>\n",
       "      <td>0</td>\n",
       "      <td>2014</td>\n",
       "      <td>10</td>\n",
       "    </tr>\n",
       "    <tr>\n",
       "      <td>83</td>\n",
       "      <td>2014-11-01</td>\n",
       "      <td>6153</td>\n",
       "      <td>3027</td>\n",
       "      <td>9181</td>\n",
       "      <td>0</td>\n",
       "      <td>0</td>\n",
       "      <td>0</td>\n",
       "      <td>2014</td>\n",
       "      <td>11</td>\n",
       "    </tr>\n",
       "    <tr>\n",
       "      <td>84</td>\n",
       "      <td>2014-12-01</td>\n",
       "      <td>5830</td>\n",
       "      <td>3278</td>\n",
       "      <td>9109</td>\n",
       "      <td>0</td>\n",
       "      <td>0</td>\n",
       "      <td>0</td>\n",
       "      <td>2014</td>\n",
       "      <td>12</td>\n",
       "    </tr>\n",
       "    <tr>\n",
       "      <td>85</td>\n",
       "      <td>2015-01-01</td>\n",
       "      <td>6103</td>\n",
       "      <td>3485</td>\n",
       "      <td>9589</td>\n",
       "      <td>0</td>\n",
       "      <td>0</td>\n",
       "      <td>0</td>\n",
       "      <td>2015</td>\n",
       "      <td>1</td>\n",
       "    </tr>\n",
       "    <tr>\n",
       "      <td>86</td>\n",
       "      <td>2015-02-01</td>\n",
       "      <td>5602</td>\n",
       "      <td>3091</td>\n",
       "      <td>8694</td>\n",
       "      <td>0</td>\n",
       "      <td>0</td>\n",
       "      <td>0</td>\n",
       "      <td>2015</td>\n",
       "      <td>2</td>\n",
       "    </tr>\n",
       "  </tbody>\n",
       "</table>\n",
       "</div>"
      ],
      "text/plain": [
       "    timestamp  pagecount_desktop_views  pagecount_mobile_views  \\\n",
       "82 2014-10-01                     6577                    3091   \n",
       "83 2014-11-01                     6153                    3027   \n",
       "84 2014-12-01                     5830                    3278   \n",
       "85 2015-01-01                     6103                    3485   \n",
       "86 2015-02-01                     5602                    3091   \n",
       "\n",
       "    pagecount_all_views  pageview_mobile_views  pageview_desktop_views  \\\n",
       "82                 9669                      0                       0   \n",
       "83                 9181                      0                       0   \n",
       "84                 9109                      0                       0   \n",
       "85                 9589                      0                       0   \n",
       "86                 8694                      0                       0   \n",
       "\n",
       "    pageview_all_views  year  month  \n",
       "82                   0  2014     10  \n",
       "83                   0  2014     11  \n",
       "84                   0  2014     12  \n",
       "85                   0  2015      1  \n",
       "86                   0  2015      2  "
      ]
     },
     "execution_count": 71,
     "metadata": {},
     "output_type": "execute_result"
    }
   ],
   "source": [
    "drop_rows = df_traffic_timestamp['pagecount_mobile_views']!=0\n",
    "df_traffic_timestamp_pagecount_mobile = df_traffic_timestamp[drop_rows]\n",
    "df_traffic_timestamp_pagecount_mobile.head()"
   ]
  },
  {
   "cell_type": "markdown",
   "metadata": {},
   "source": [
    "remove zero values to clean up visualization"
   ]
  },
  {
   "cell_type": "code",
   "execution_count": 72,
   "metadata": {
    "scrolled": true
   },
   "outputs": [
    {
     "data": {
      "text/html": [
       "<div>\n",
       "<style scoped>\n",
       "    .dataframe tbody tr th:only-of-type {\n",
       "        vertical-align: middle;\n",
       "    }\n",
       "\n",
       "    .dataframe tbody tr th {\n",
       "        vertical-align: top;\n",
       "    }\n",
       "\n",
       "    .dataframe thead th {\n",
       "        text-align: right;\n",
       "    }\n",
       "</style>\n",
       "<table border=\"1\" class=\"dataframe\">\n",
       "  <thead>\n",
       "    <tr style=\"text-align: right;\">\n",
       "      <th></th>\n",
       "      <th>timestamp</th>\n",
       "      <th>pagecount_desktop_views</th>\n",
       "      <th>pagecount_mobile_views</th>\n",
       "      <th>pagecount_all_views</th>\n",
       "      <th>pageview_mobile_views</th>\n",
       "      <th>pageview_desktop_views</th>\n",
       "      <th>pageview_all_views</th>\n",
       "      <th>year</th>\n",
       "      <th>month</th>\n",
       "    </tr>\n",
       "  </thead>\n",
       "  <tbody>\n",
       "    <tr>\n",
       "      <td>0</td>\n",
       "      <td>2007-12-01</td>\n",
       "      <td>2998</td>\n",
       "      <td>0</td>\n",
       "      <td>2998</td>\n",
       "      <td>0</td>\n",
       "      <td>0</td>\n",
       "      <td>0</td>\n",
       "      <td>2007</td>\n",
       "      <td>12</td>\n",
       "    </tr>\n",
       "    <tr>\n",
       "      <td>1</td>\n",
       "      <td>2008-01-01</td>\n",
       "      <td>4930</td>\n",
       "      <td>0</td>\n",
       "      <td>4930</td>\n",
       "      <td>0</td>\n",
       "      <td>0</td>\n",
       "      <td>0</td>\n",
       "      <td>2008</td>\n",
       "      <td>1</td>\n",
       "    </tr>\n",
       "    <tr>\n",
       "      <td>2</td>\n",
       "      <td>2008-02-01</td>\n",
       "      <td>4818</td>\n",
       "      <td>0</td>\n",
       "      <td>4818</td>\n",
       "      <td>0</td>\n",
       "      <td>0</td>\n",
       "      <td>0</td>\n",
       "      <td>2008</td>\n",
       "      <td>2</td>\n",
       "    </tr>\n",
       "    <tr>\n",
       "      <td>3</td>\n",
       "      <td>2008-03-01</td>\n",
       "      <td>4955</td>\n",
       "      <td>0</td>\n",
       "      <td>4955</td>\n",
       "      <td>0</td>\n",
       "      <td>0</td>\n",
       "      <td>0</td>\n",
       "      <td>2008</td>\n",
       "      <td>3</td>\n",
       "    </tr>\n",
       "    <tr>\n",
       "      <td>4</td>\n",
       "      <td>2008-04-01</td>\n",
       "      <td>5159</td>\n",
       "      <td>0</td>\n",
       "      <td>5159</td>\n",
       "      <td>0</td>\n",
       "      <td>0</td>\n",
       "      <td>0</td>\n",
       "      <td>2008</td>\n",
       "      <td>4</td>\n",
       "    </tr>\n",
       "  </tbody>\n",
       "</table>\n",
       "</div>"
      ],
      "text/plain": [
       "   timestamp  pagecount_desktop_views  pagecount_mobile_views  \\\n",
       "0 2007-12-01                     2998                       0   \n",
       "1 2008-01-01                     4930                       0   \n",
       "2 2008-02-01                     4818                       0   \n",
       "3 2008-03-01                     4955                       0   \n",
       "4 2008-04-01                     5159                       0   \n",
       "\n",
       "   pagecount_all_views  pageview_mobile_views  pageview_desktop_views  \\\n",
       "0                 2998                      0                       0   \n",
       "1                 4930                      0                       0   \n",
       "2                 4818                      0                       0   \n",
       "3                 4955                      0                       0   \n",
       "4                 5159                      0                       0   \n",
       "\n",
       "   pageview_all_views  year  month  \n",
       "0                   0  2007     12  \n",
       "1                   0  2008      1  \n",
       "2                   0  2008      2  \n",
       "3                   0  2008      3  \n",
       "4                   0  2008      4  "
      ]
     },
     "execution_count": 72,
     "metadata": {},
     "output_type": "execute_result"
    }
   ],
   "source": [
    "drop_rows = df_traffic_timestamp['pagecount_all_views']!=0\n",
    "df_traffic_timestamp_pagecount_all = df_traffic_timestamp[drop_rows]\n",
    "df_traffic_timestamp_pagecount_all.head()"
   ]
  },
  {
   "cell_type": "markdown",
   "metadata": {},
   "source": [
    "remove zero values to clean up visualization"
   ]
  },
  {
   "cell_type": "code",
   "execution_count": 73,
   "metadata": {
    "scrolled": true
   },
   "outputs": [
    {
     "data": {
      "text/html": [
       "<div>\n",
       "<style scoped>\n",
       "    .dataframe tbody tr th:only-of-type {\n",
       "        vertical-align: middle;\n",
       "    }\n",
       "\n",
       "    .dataframe tbody tr th {\n",
       "        vertical-align: top;\n",
       "    }\n",
       "\n",
       "    .dataframe thead th {\n",
       "        text-align: right;\n",
       "    }\n",
       "</style>\n",
       "<table border=\"1\" class=\"dataframe\">\n",
       "  <thead>\n",
       "    <tr style=\"text-align: right;\">\n",
       "      <th></th>\n",
       "      <th>timestamp</th>\n",
       "      <th>pagecount_desktop_views</th>\n",
       "      <th>pagecount_mobile_views</th>\n",
       "      <th>pagecount_all_views</th>\n",
       "      <th>pageview_mobile_views</th>\n",
       "      <th>pageview_desktop_views</th>\n",
       "      <th>pageview_all_views</th>\n",
       "      <th>year</th>\n",
       "      <th>month</th>\n",
       "    </tr>\n",
       "  </thead>\n",
       "  <tbody>\n",
       "    <tr>\n",
       "      <td>91</td>\n",
       "      <td>2015-07-01</td>\n",
       "      <td>5229</td>\n",
       "      <td>3254</td>\n",
       "      <td>8483</td>\n",
       "      <td>3288</td>\n",
       "      <td>4376</td>\n",
       "      <td>7665</td>\n",
       "      <td>2015</td>\n",
       "      <td>7</td>\n",
       "    </tr>\n",
       "    <tr>\n",
       "      <td>92</td>\n",
       "      <td>2015-08-01</td>\n",
       "      <td>5035</td>\n",
       "      <td>3268</td>\n",
       "      <td>8304</td>\n",
       "      <td>3302</td>\n",
       "      <td>4332</td>\n",
       "      <td>7634</td>\n",
       "      <td>2015</td>\n",
       "      <td>8</td>\n",
       "    </tr>\n",
       "    <tr>\n",
       "      <td>93</td>\n",
       "      <td>2015-09-01</td>\n",
       "      <td>5409</td>\n",
       "      <td>3172</td>\n",
       "      <td>8582</td>\n",
       "      <td>3170</td>\n",
       "      <td>4485</td>\n",
       "      <td>7655</td>\n",
       "      <td>2015</td>\n",
       "      <td>9</td>\n",
       "    </tr>\n",
       "    <tr>\n",
       "      <td>94</td>\n",
       "      <td>2015-10-01</td>\n",
       "      <td>5535</td>\n",
       "      <td>3246</td>\n",
       "      <td>8781</td>\n",
       "      <td>3268</td>\n",
       "      <td>4477</td>\n",
       "      <td>7746</td>\n",
       "      <td>2015</td>\n",
       "      <td>10</td>\n",
       "    </tr>\n",
       "    <tr>\n",
       "      <td>95</td>\n",
       "      <td>2015-11-01</td>\n",
       "      <td>5296</td>\n",
       "      <td>3218</td>\n",
       "      <td>8515</td>\n",
       "      <td>3236</td>\n",
       "      <td>4287</td>\n",
       "      <td>7524</td>\n",
       "      <td>2015</td>\n",
       "      <td>11</td>\n",
       "    </tr>\n",
       "  </tbody>\n",
       "</table>\n",
       "</div>"
      ],
      "text/plain": [
       "    timestamp  pagecount_desktop_views  pagecount_mobile_views  \\\n",
       "91 2015-07-01                     5229                    3254   \n",
       "92 2015-08-01                     5035                    3268   \n",
       "93 2015-09-01                     5409                    3172   \n",
       "94 2015-10-01                     5535                    3246   \n",
       "95 2015-11-01                     5296                    3218   \n",
       "\n",
       "    pagecount_all_views  pageview_mobile_views  pageview_desktop_views  \\\n",
       "91                 8483                   3288                    4376   \n",
       "92                 8304                   3302                    4332   \n",
       "93                 8582                   3170                    4485   \n",
       "94                 8781                   3268                    4477   \n",
       "95                 8515                   3236                    4287   \n",
       "\n",
       "    pageview_all_views  year  month  \n",
       "91                7665  2015      7  \n",
       "92                7634  2015      8  \n",
       "93                7655  2015      9  \n",
       "94                7746  2015     10  \n",
       "95                7524  2015     11  "
      ]
     },
     "execution_count": 73,
     "metadata": {},
     "output_type": "execute_result"
    }
   ],
   "source": [
    "drop_rows = df_traffic_timestamp['pageview_all_views']!=0\n",
    "df_traffic_timestamp_pageview_all = df_traffic_timestamp[drop_rows]\n",
    "df_traffic_timestamp_pageview_all.head()"
   ]
  },
  {
   "cell_type": "markdown",
   "metadata": {},
   "source": [
    "remove zero values to clean up visualization"
   ]
  },
  {
   "cell_type": "code",
   "execution_count": 74,
   "metadata": {},
   "outputs": [
    {
     "data": {
      "text/html": [
       "<div>\n",
       "<style scoped>\n",
       "    .dataframe tbody tr th:only-of-type {\n",
       "        vertical-align: middle;\n",
       "    }\n",
       "\n",
       "    .dataframe tbody tr th {\n",
       "        vertical-align: top;\n",
       "    }\n",
       "\n",
       "    .dataframe thead th {\n",
       "        text-align: right;\n",
       "    }\n",
       "</style>\n",
       "<table border=\"1\" class=\"dataframe\">\n",
       "  <thead>\n",
       "    <tr style=\"text-align: right;\">\n",
       "      <th></th>\n",
       "      <th>timestamp</th>\n",
       "      <th>pagecount_desktop_views</th>\n",
       "      <th>pagecount_mobile_views</th>\n",
       "      <th>pagecount_all_views</th>\n",
       "      <th>pageview_mobile_views</th>\n",
       "      <th>pageview_desktop_views</th>\n",
       "      <th>pageview_all_views</th>\n",
       "      <th>year</th>\n",
       "      <th>month</th>\n",
       "    </tr>\n",
       "  </thead>\n",
       "  <tbody>\n",
       "    <tr>\n",
       "      <td>91</td>\n",
       "      <td>2015-07-01</td>\n",
       "      <td>5229</td>\n",
       "      <td>3254</td>\n",
       "      <td>8483</td>\n",
       "      <td>3288</td>\n",
       "      <td>4376</td>\n",
       "      <td>7665</td>\n",
       "      <td>2015</td>\n",
       "      <td>7</td>\n",
       "    </tr>\n",
       "    <tr>\n",
       "      <td>92</td>\n",
       "      <td>2015-08-01</td>\n",
       "      <td>5035</td>\n",
       "      <td>3268</td>\n",
       "      <td>8304</td>\n",
       "      <td>3302</td>\n",
       "      <td>4332</td>\n",
       "      <td>7634</td>\n",
       "      <td>2015</td>\n",
       "      <td>8</td>\n",
       "    </tr>\n",
       "    <tr>\n",
       "      <td>93</td>\n",
       "      <td>2015-09-01</td>\n",
       "      <td>5409</td>\n",
       "      <td>3172</td>\n",
       "      <td>8582</td>\n",
       "      <td>3170</td>\n",
       "      <td>4485</td>\n",
       "      <td>7655</td>\n",
       "      <td>2015</td>\n",
       "      <td>9</td>\n",
       "    </tr>\n",
       "    <tr>\n",
       "      <td>94</td>\n",
       "      <td>2015-10-01</td>\n",
       "      <td>5535</td>\n",
       "      <td>3246</td>\n",
       "      <td>8781</td>\n",
       "      <td>3268</td>\n",
       "      <td>4477</td>\n",
       "      <td>7746</td>\n",
       "      <td>2015</td>\n",
       "      <td>10</td>\n",
       "    </tr>\n",
       "    <tr>\n",
       "      <td>95</td>\n",
       "      <td>2015-11-01</td>\n",
       "      <td>5296</td>\n",
       "      <td>3218</td>\n",
       "      <td>8515</td>\n",
       "      <td>3236</td>\n",
       "      <td>4287</td>\n",
       "      <td>7524</td>\n",
       "      <td>2015</td>\n",
       "      <td>11</td>\n",
       "    </tr>\n",
       "  </tbody>\n",
       "</table>\n",
       "</div>"
      ],
      "text/plain": [
       "    timestamp  pagecount_desktop_views  pagecount_mobile_views  \\\n",
       "91 2015-07-01                     5229                    3254   \n",
       "92 2015-08-01                     5035                    3268   \n",
       "93 2015-09-01                     5409                    3172   \n",
       "94 2015-10-01                     5535                    3246   \n",
       "95 2015-11-01                     5296                    3218   \n",
       "\n",
       "    pagecount_all_views  pageview_mobile_views  pageview_desktop_views  \\\n",
       "91                 8483                   3288                    4376   \n",
       "92                 8304                   3302                    4332   \n",
       "93                 8582                   3170                    4485   \n",
       "94                 8781                   3268                    4477   \n",
       "95                 8515                   3236                    4287   \n",
       "\n",
       "    pageview_all_views  year  month  \n",
       "91                7665  2015      7  \n",
       "92                7634  2015      8  \n",
       "93                7655  2015      9  \n",
       "94                7746  2015     10  \n",
       "95                7524  2015     11  "
      ]
     },
     "execution_count": 74,
     "metadata": {},
     "output_type": "execute_result"
    }
   ],
   "source": [
    "drop_rows = df_traffic_timestamp['pageview_mobile_views']!=0\n",
    "df_traffic_timestamp_pageview_mobile = df_traffic_timestamp[drop_rows]\n",
    "df_traffic_timestamp_pageview_mobile.head()"
   ]
  },
  {
   "cell_type": "markdown",
   "metadata": {},
   "source": [
    "remove zero values to clean up visualization"
   ]
  },
  {
   "cell_type": "code",
   "execution_count": 75,
   "metadata": {},
   "outputs": [
    {
     "data": {
      "text/html": [
       "<div>\n",
       "<style scoped>\n",
       "    .dataframe tbody tr th:only-of-type {\n",
       "        vertical-align: middle;\n",
       "    }\n",
       "\n",
       "    .dataframe tbody tr th {\n",
       "        vertical-align: top;\n",
       "    }\n",
       "\n",
       "    .dataframe thead th {\n",
       "        text-align: right;\n",
       "    }\n",
       "</style>\n",
       "<table border=\"1\" class=\"dataframe\">\n",
       "  <thead>\n",
       "    <tr style=\"text-align: right;\">\n",
       "      <th></th>\n",
       "      <th>timestamp</th>\n",
       "      <th>pagecount_desktop_views</th>\n",
       "      <th>pagecount_mobile_views</th>\n",
       "      <th>pagecount_all_views</th>\n",
       "      <th>pageview_mobile_views</th>\n",
       "      <th>pageview_desktop_views</th>\n",
       "      <th>pageview_all_views</th>\n",
       "      <th>year</th>\n",
       "      <th>month</th>\n",
       "    </tr>\n",
       "  </thead>\n",
       "  <tbody>\n",
       "    <tr>\n",
       "      <td>91</td>\n",
       "      <td>2015-07-01</td>\n",
       "      <td>5229</td>\n",
       "      <td>3254</td>\n",
       "      <td>8483</td>\n",
       "      <td>3288</td>\n",
       "      <td>4376</td>\n",
       "      <td>7665</td>\n",
       "      <td>2015</td>\n",
       "      <td>7</td>\n",
       "    </tr>\n",
       "    <tr>\n",
       "      <td>92</td>\n",
       "      <td>2015-08-01</td>\n",
       "      <td>5035</td>\n",
       "      <td>3268</td>\n",
       "      <td>8304</td>\n",
       "      <td>3302</td>\n",
       "      <td>4332</td>\n",
       "      <td>7634</td>\n",
       "      <td>2015</td>\n",
       "      <td>8</td>\n",
       "    </tr>\n",
       "    <tr>\n",
       "      <td>93</td>\n",
       "      <td>2015-09-01</td>\n",
       "      <td>5409</td>\n",
       "      <td>3172</td>\n",
       "      <td>8582</td>\n",
       "      <td>3170</td>\n",
       "      <td>4485</td>\n",
       "      <td>7655</td>\n",
       "      <td>2015</td>\n",
       "      <td>9</td>\n",
       "    </tr>\n",
       "    <tr>\n",
       "      <td>94</td>\n",
       "      <td>2015-10-01</td>\n",
       "      <td>5535</td>\n",
       "      <td>3246</td>\n",
       "      <td>8781</td>\n",
       "      <td>3268</td>\n",
       "      <td>4477</td>\n",
       "      <td>7746</td>\n",
       "      <td>2015</td>\n",
       "      <td>10</td>\n",
       "    </tr>\n",
       "    <tr>\n",
       "      <td>95</td>\n",
       "      <td>2015-11-01</td>\n",
       "      <td>5296</td>\n",
       "      <td>3218</td>\n",
       "      <td>8515</td>\n",
       "      <td>3236</td>\n",
       "      <td>4287</td>\n",
       "      <td>7524</td>\n",
       "      <td>2015</td>\n",
       "      <td>11</td>\n",
       "    </tr>\n",
       "  </tbody>\n",
       "</table>\n",
       "</div>"
      ],
      "text/plain": [
       "    timestamp  pagecount_desktop_views  pagecount_mobile_views  \\\n",
       "91 2015-07-01                     5229                    3254   \n",
       "92 2015-08-01                     5035                    3268   \n",
       "93 2015-09-01                     5409                    3172   \n",
       "94 2015-10-01                     5535                    3246   \n",
       "95 2015-11-01                     5296                    3218   \n",
       "\n",
       "    pagecount_all_views  pageview_mobile_views  pageview_desktop_views  \\\n",
       "91                 8483                   3288                    4376   \n",
       "92                 8304                   3302                    4332   \n",
       "93                 8582                   3170                    4485   \n",
       "94                 8781                   3268                    4477   \n",
       "95                 8515                   3236                    4287   \n",
       "\n",
       "    pageview_all_views  year  month  \n",
       "91                7665  2015      7  \n",
       "92                7634  2015      8  \n",
       "93                7655  2015      9  \n",
       "94                7746  2015     10  \n",
       "95                7524  2015     11  "
      ]
     },
     "execution_count": 75,
     "metadata": {},
     "output_type": "execute_result"
    }
   ],
   "source": [
    "drop_rows = df_traffic_timestamp['pageview_desktop_views']!=0\n",
    "df_traffic_timestamp_pageview_desktop = df_traffic_timestamp[drop_rows]\n",
    "df_traffic_timestamp_pageview_desktop.head()"
   ]
  },
  {
   "cell_type": "markdown",
   "metadata": {},
   "source": [
    "Plot and save the visulaization"
   ]
  },
  {
   "cell_type": "code",
   "execution_count": 76,
   "metadata": {},
   "outputs": [
    {
     "name": "stderr",
     "output_type": "stream",
     "text": [
      "/Users/Jack/opt/anaconda3/lib/python3.7/site-packages/pandas/plotting/_matplotlib/converter.py:103: FutureWarning: Using an implicitly registered datetime converter for a matplotlib plotting method. The converter was registered by pandas on import. Future versions of pandas will require you to explicitly register matplotlib converters.\n",
      "\n",
      "To register the converters:\n",
      "\t>>> from pandas.plotting import register_matplotlib_converters\n",
      "\t>>> register_matplotlib_converters()\n",
      "  warnings.warn(msg, FutureWarning)\n"
     ]
    },
    {
     "data": {
      "image/png": "[encoded data removed]",
      "text/plain": [
       "<Figure size 1280x480 with 1 Axes>"
      ]
     },
     "metadata": {},
     "output_type": "display_data"
    }
   ],
   "source": [
    "plt.figure(num=None, figsize=(16, 6), dpi=80, facecolor='w', edgecolor='k')\n",
    "plt.plot( 'timestamp', 'pagecount_desktop_views', data=df_traffic_timestamp_pagecount_desktop, marker='', color='g', linewidth=2, linestyle='--')\n",
    "plt.plot( 'timestamp', 'pagecount_mobile_views', data=df_traffic_timestamp_pagecount_mobile, marker='', color='b', linewidth=2, linestyle='--')\n",
    "plt.plot( 'timestamp', 'pagecount_all_views', data=df_traffic_timestamp_pagecount_all, marker='', color='k', linewidth=2, linestyle='--')\n",
    "plt.plot( 'timestamp', 'pageview_desktop_views', data=df_traffic_timestamp_pageview_desktop, marker='', color='g', linewidth=2, linestyle='-')\n",
    "plt.plot( 'timestamp', 'pageview_mobile_views', data=df_traffic_timestamp_pageview_mobile, marker='', color='b', linewidth=2, linestyle='-')\n",
    "plt.plot( 'timestamp', 'pageview_all_views', data=df_traffic_timestamp_pageview_all, marker='', color='k', linewidth=2, linestyle='-')\n",
    "plt.yticks(np.arange(0, 13000, 2000))\n",
    "plt.xlabel('May 2015: a new pageview deffinition took effect, which eliminated all crawler taffic. Solid lines mark new deffintion i.e. \"pageview\" rather than \"pagecount\"', color='red')  \n",
    "plt.title(\"Page Views on English Wikipedia (x 1,000,000)\")\n",
    "plt.legend()\n",
    "\n",
    "plt.savefig('data512_a1_viz.png')"
   ]
  },
  {
   "cell_type": "markdown",
   "metadata": {},
   "source": [
    "## Congrats, we have created the visualization!"
   ]
  },
  {
   "cell_type": "markdown",
   "metadata": {},
   "source": [
    "you should now also have a csv file with all the cleaned data, five json files with our raw data, as well as the png file of the visualization."
   ]
  },
  {
   "cell_type": "markdown",
   "metadata": {},
   "source": [
    "please feel free to explore the data and make new visualiztions!"
   ]
  },
  {
   "cell_type": "code",
   "execution_count": null,
   "metadata": {},
   "outputs": [],
   "source": []
  },
  {
   "cell_type": "code",
   "execution_count": null,
   "metadata": {},
   "outputs": [],
   "source": []
  },
  {
   "cell_type": "code",
   "execution_count": null,
   "metadata": {},
   "outputs": [],
   "source": []
  }
 ],
 "metadata": {
  "kernelspec": {
   "display_name": "Python 3",
   "language": "python",
   "name": "python3"
  },
  "language_info": {
   "codemirror_mode": {
    "name": "ipython",
    "version": 3
   },
   "file_extension": ".py",
   "mimetype": "text/x-python",
   "name": "python",
   "nbconvert_exporter": "python",
   "pygments_lexer": "ipython3",
   "version": "3.7.4"
  }
 },
 "nbformat": 4,
 "nbformat_minor": 2
}
