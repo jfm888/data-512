{
 "cells": [
  {
   "cell_type": "markdown",
   "metadata": {},
   "source": [
    "John Mahoney /\n",
    "Data 512 A2 /\n",
    "October 21, 2020"
   ]
  },
  {
   "cell_type": "markdown",
   "metadata": {},
   "source": [
    "# 1: Download all datasets"
   ]
  },
  {
   "cell_type": "markdown",
   "metadata": {},
   "source": [
    "### Download the 3 toxicity datasets: toxicity_annotations.tsv, toxicity_annotated_comments.tsv, and toxicity_worker_demographics.tsv"
   ]
  },
  {
   "cell_type": "code",
   "execution_count": 1,
   "metadata": {},
   "outputs": [
    {
     "name": "stdout",
     "output_type": "stream",
     "text": [
      "--2020-10-22 21:42:38--  https://ndownloader.figshare.com/files/7394539\n",
      "Resolving ndownloader.figshare.com (ndownloader.figshare.com)... 54.76.76.248, 34.250.140.125, 34.240.85.170, ...\n",
      "Connecting to ndownloader.figshare.com (ndownloader.figshare.com)|54.76.76.248|:443... connected.\n",
      "HTTP request sent, awaiting response... 302 Found\n",
      "Location: https://s3-eu-west-1.amazonaws.com/pfigshare-u-files/7394539/toxicity_annotations.tsv [following]\n",
      "--2020-10-22 21:42:39--  https://s3-eu-west-1.amazonaws.com/pfigshare-u-files/7394539/toxicity_annotations.tsv\n",
      "Resolving s3-eu-west-1.amazonaws.com (s3-eu-west-1.amazonaws.com)... 52.218.29.147\n",
      "Connecting to s3-eu-west-1.amazonaws.com (s3-eu-west-1.amazonaws.com)|52.218.29.147|:443... connected.\n",
      "HTTP request sent, awaiting response... 200 OK\n",
      "Length: 36177321 (35M) [binary/octet-stream]\n",
      "Saving to: ‘toxicity_annotations.tsv’\n",
      "\n",
      "toxicity_annotation 100%[===================>]  34.50M  14.1MB/s    in 2.4s    \n",
      "\n",
      "2020-10-22 21:42:42 (14.1 MB/s) - ‘toxicity_annotations.tsv’ saved [36177321/36177321]\n",
      "\n"
     ]
    }
   ],
   "source": [
    "!wget https://ndownloader.figshare.com/files/7394539 -O toxicity_annotations.tsv"
   ]
  },
  {
   "cell_type": "code",
   "execution_count": 2,
   "metadata": {},
   "outputs": [
    {
     "name": "stdout",
     "output_type": "stream",
     "text": [
      "--2020-10-22 21:42:43--  https://ndownloader.figshare.com/files/7394542\n",
      "Resolving ndownloader.figshare.com (ndownloader.figshare.com)... 54.76.76.248, 34.250.140.125, 34.240.85.170, ...\n",
      "Connecting to ndownloader.figshare.com (ndownloader.figshare.com)|54.76.76.248|:443... connected.\n",
      "HTTP request sent, awaiting response... 302 Found\n",
      "Location: https://s3-eu-west-1.amazonaws.com/pfigshare-u-files/7394542/toxicity_annotated_comments.tsv [following]\n",
      "--2020-10-22 21:42:43--  https://s3-eu-west-1.amazonaws.com/pfigshare-u-files/7394542/toxicity_annotated_comments.tsv\n",
      "Resolving s3-eu-west-1.amazonaws.com (s3-eu-west-1.amazonaws.com)... 52.218.29.147\n",
      "Connecting to s3-eu-west-1.amazonaws.com (s3-eu-west-1.amazonaws.com)|52.218.29.147|:443... connected.\n",
      "HTTP request sent, awaiting response... 200 OK\n",
      "Length: 78187921 (75M) [binary/octet-stream]\n",
      "Saving to: ‘toxicity_annotated_comments.tsv’\n",
      "\n",
      "toxicity_annotated_ 100%[===================>]  74.57M  17.0MB/s    in 4.4s    \n",
      "\n",
      "2020-10-22 21:42:48 (17.0 MB/s) - ‘toxicity_annotated_comments.tsv’ saved [78187921/78187921]\n",
      "\n"
     ]
    }
   ],
   "source": [
    "!wget https://ndownloader.figshare.com/files/7394542 -O toxicity_annotated_comments.tsv"
   ]
  },
  {
   "cell_type": "code",
   "execution_count": 3,
   "metadata": {},
   "outputs": [
    {
     "name": "stdout",
     "output_type": "stream",
     "text": [
      "--2020-10-22 21:42:49--  https://ndownloader.figshare.com/files/7640581\n",
      "Resolving ndownloader.figshare.com (ndownloader.figshare.com)... 54.76.76.248, 34.250.140.125, 34.240.85.170, ...\n",
      "Connecting to ndownloader.figshare.com (ndownloader.figshare.com)|54.76.76.248|:443... connected.\n",
      "HTTP request sent, awaiting response... 302 Found\n",
      "Location: https://s3-eu-west-1.amazonaws.com/pfigshare-u-files/7640581/toxicity_worker_demographics.tsv [following]\n",
      "--2020-10-22 21:42:50--  https://s3-eu-west-1.amazonaws.com/pfigshare-u-files/7640581/toxicity_worker_demographics.tsv\n",
      "Resolving s3-eu-west-1.amazonaws.com (s3-eu-west-1.amazonaws.com)... 52.218.37.115\n",
      "Connecting to s3-eu-west-1.amazonaws.com (s3-eu-west-1.amazonaws.com)|52.218.37.115|:443... connected.\n",
      "HTTP request sent, awaiting response... 200 OK\n",
      "Length: 94645 (92K) [binary/octet-stream]\n",
      "Saving to: ‘toxicity_worker_demographics.tsv’\n",
      "\n",
      "toxicity_worker_dem 100%[===================>]  92.43K   223KB/s    in 0.4s    \n",
      "\n",
      "2020-10-22 21:42:51 (223 KB/s) - ‘toxicity_worker_demographics.tsv’ saved [94645/94645]\n",
      "\n"
     ]
    }
   ],
   "source": [
    "!wget https://ndownloader.figshare.com/files/7640581 -O toxicity_worker_demographics.tsv"
   ]
  },
  {
   "cell_type": "markdown",
   "metadata": {},
   "source": [
    "### Download the 3 aggression datasets: aggression_annotations.tsv, aggression_annotated_comments.tsv, and aggression_worker_demographics.tsv"
   ]
  },
  {
   "cell_type": "code",
   "execution_count": 4,
   "metadata": {},
   "outputs": [
    {
     "name": "stdout",
     "output_type": "stream",
     "text": [
      "--2020-10-22 21:42:51--  https://ndownloader.figshare.com/files/7394506\n",
      "Resolving ndownloader.figshare.com (ndownloader.figshare.com)... 54.76.76.248, 34.250.140.125, 34.240.85.170, ...\n",
      "Connecting to ndownloader.figshare.com (ndownloader.figshare.com)|54.76.76.248|:443... connected.\n",
      "HTTP request sent, awaiting response... 302 Found\n",
      "Location: https://s3-eu-west-1.amazonaws.com/pfigshare-u-files/7394506/aggression_annotations.tsv [following]\n",
      "--2020-10-22 21:42:52--  https://s3-eu-west-1.amazonaws.com/pfigshare-u-files/7394506/aggression_annotations.tsv\n",
      "Resolving s3-eu-west-1.amazonaws.com (s3-eu-west-1.amazonaws.com)... 52.218.37.115\n",
      "Connecting to s3-eu-west-1.amazonaws.com (s3-eu-west-1.amazonaws.com)|52.218.37.115|:443... connected.\n",
      "HTTP request sent, awaiting response... 200 OK\n",
      "Length: 30627328 (29M) [binary/octet-stream]\n",
      "Saving to: ‘aggression_annotations.tsv’\n",
      "\n",
      "aggression_annotati 100%[===================>]  29.21M  12.6MB/s    in 2.3s    \n",
      "\n",
      "2020-10-22 21:42:55 (12.6 MB/s) - ‘aggression_annotations.tsv’ saved [30627328/30627328]\n",
      "\n"
     ]
    }
   ],
   "source": [
    "!wget https://ndownloader.figshare.com/files/7394506 -O aggression_annotations.tsv"
   ]
  },
  {
   "cell_type": "code",
   "execution_count": 5,
   "metadata": {},
   "outputs": [
    {
     "name": "stdout",
     "output_type": "stream",
     "text": [
      "--2020-10-22 21:42:56--  https://ndownloader.figshare.com/files/7038038\n",
      "Resolving ndownloader.figshare.com (ndownloader.figshare.com)... 54.76.76.248, 34.250.140.125, 34.240.85.170, ...\n",
      "Connecting to ndownloader.figshare.com (ndownloader.figshare.com)|54.76.76.248|:443... connected.\n",
      "HTTP request sent, awaiting response... 302 Found\n",
      "Location: https://s3-eu-west-1.amazonaws.com/pfigshare-u-files/7038038/aggression_annotated_comments.tsv [following]\n",
      "--2020-10-22 21:42:56--  https://s3-eu-west-1.amazonaws.com/pfigshare-u-files/7038038/aggression_annotated_comments.tsv\n",
      "Resolving s3-eu-west-1.amazonaws.com (s3-eu-west-1.amazonaws.com)... 52.218.109.43\n",
      "Connecting to s3-eu-west-1.amazonaws.com (s3-eu-west-1.amazonaws.com)|52.218.109.43|:443... connected.\n",
      "HTTP request sent, awaiting response... 200 OK\n",
      "Length: 58090178 (55M) [binary/octet-stream]\n",
      "Saving to: ‘aggression_annotated_comments.tsv’\n",
      "\n",
      "aggression_annotate 100%[===================>]  55.40M  16.0MB/s    in 3.5s    \n",
      "\n",
      "2020-10-22 21:43:01 (16.0 MB/s) - ‘aggression_annotated_comments.tsv’ saved [58090178/58090178]\n",
      "\n"
     ]
    }
   ],
   "source": [
    "!wget https://ndownloader.figshare.com/files/7038038 -O aggression_annotated_comments.tsv"
   ]
  },
  {
   "cell_type": "code",
   "execution_count": 6,
   "metadata": {},
   "outputs": [
    {
     "name": "stdout",
     "output_type": "stream",
     "text": [
      "--2020-10-22 21:43:01--  https://ndownloader.figshare.com/files/7640644\n",
      "Resolving ndownloader.figshare.com (ndownloader.figshare.com)... 54.76.76.248, 34.250.140.125, 34.240.85.170, ...\n",
      "Connecting to ndownloader.figshare.com (ndownloader.figshare.com)|54.76.76.248|:443... connected.\n",
      "HTTP request sent, awaiting response... 302 Found\n",
      "Location: https://s3-eu-west-1.amazonaws.com/pfigshare-u-files/7640644/aggression_worker_demographics.tsv [following]\n",
      "--2020-10-22 21:43:02--  https://s3-eu-west-1.amazonaws.com/pfigshare-u-files/7640644/aggression_worker_demographics.tsv\n",
      "Resolving s3-eu-west-1.amazonaws.com (s3-eu-west-1.amazonaws.com)... 52.218.91.19\n",
      "Connecting to s3-eu-west-1.amazonaws.com (s3-eu-west-1.amazonaws.com)|52.218.91.19|:443... connected.\n",
      "HTTP request sent, awaiting response... 200 OK\n",
      "Length: 57649 (56K) [binary/octet-stream]\n",
      "Saving to: ‘aggression_worker_demographics.tsv’\n",
      "\n",
      "aggression_worker_d 100%[===================>]  56.30K   320KB/s    in 0.2s    \n",
      "\n",
      "2020-10-22 21:43:03 (320 KB/s) - ‘aggression_worker_demographics.tsv’ saved [57649/57649]\n",
      "\n"
     ]
    }
   ],
   "source": [
    "!wget https://ndownloader.figshare.com/files/7640644 -O aggression_worker_demographics.tsv"
   ]
  },
  {
   "cell_type": "markdown",
   "metadata": {},
   "source": [
    "# 2: Load the data into Pandas Dataframes for analysis"
   ]
  },
  {
   "cell_type": "markdown",
   "metadata": {},
   "source": [
    "### import nessesary packages"
   ]
  },
  {
   "cell_type": "code",
   "execution_count": 7,
   "metadata": {},
   "outputs": [],
   "source": [
    "import numpy as np\n",
    "import pandas as pd\n",
    "import seaborn as sns\n",
    "import scipy.stats as stats\n",
    "from matplotlib import pyplot as plt"
   ]
  },
  {
   "cell_type": "markdown",
   "metadata": {},
   "source": [
    "### load toxicity datasets"
   ]
  },
  {
   "cell_type": "code",
   "execution_count": 8,
   "metadata": {},
   "outputs": [],
   "source": [
    "toxicity_annotations = pd.read_csv(\"toxicity_annotations.tsv\", delimiter=\"\\t\")\n",
    "toxicity_annotated_comments = pd.read_csv(\"toxicity_annotated_comments.tsv\", delimiter=\"\\t\")\n",
    "toxicity_worker_demographics = pd.read_csv(\"toxicity_worker_demographics.tsv\", delimiter=\"\\t\")\n",
    "\n",
    "toxicity_worker_demographics = toxicity_worker_demographics.set_index(\"worker_id\")"
   ]
  },
  {
   "cell_type": "markdown",
   "metadata": {},
   "source": [
    "### load aggression datasets"
   ]
  },
  {
   "cell_type": "code",
   "execution_count": 9,
   "metadata": {},
   "outputs": [],
   "source": [
    "aggression_annotations = pd.read_csv(\"aggression_annotations.tsv\", delimiter=\"\\t\")\n",
    "aggression_annotated_comments = pd.read_csv(\"aggression_annotated_comments.tsv\", delimiter=\"\\t\")\n",
    "aggression_worker_demographics = pd.read_csv(\"aggression_worker_demographics.tsv\", delimiter=\"\\t\")\n",
    "\n",
    "aggression_worker_demographics = aggression_worker_demographics.set_index(\"worker_id\")"
   ]
  },
  {
   "cell_type": "markdown",
   "metadata": {},
   "source": [
    "### inspect dataframes"
   ]
  },
  {
   "cell_type": "code",
   "execution_count": 10,
   "metadata": {},
   "outputs": [
    {
     "name": "stdout",
     "output_type": "stream",
     "text": [
      "   rev_id  worker_id  toxicity  toxicity_score\n",
      "0  2232.0        723         0             0.0\n",
      "1  2232.0       4000         0             0.0\n",
      "2  2232.0       3989         0             1.0\n",
      "3  2232.0       3341         0             0.0\n",
      "4  2232.0       1574         0             1.0\n",
      "    rev_id                                            comment  year  \\\n",
      "0   2232.0  This:NEWLINE_TOKEN:One can make an analogy in ...  2002   \n",
      "1   4216.0  `NEWLINE_TOKENNEWLINE_TOKEN:Clarification for ...  2002   \n",
      "2   8953.0                          Elected or Electoral? JHK  2002   \n",
      "3  26547.0  `This is such a fun entry.   DevotchkaNEWLINE_...  2002   \n",
      "4  28959.0  Please relate the ozone hole to increases in c...  2002   \n",
      "\n",
      "   logged_in       ns  sample  split  \n",
      "0       True  article  random  train  \n",
      "1       True     user  random  train  \n",
      "2      False  article  random   test  \n",
      "3       True  article  random  train  \n",
      "4       True  article  random   test  \n",
      "           gender  english_first_language age_group  education\n",
      "worker_id                                                     \n",
      "85         female                       0     18-30  bachelors\n",
      "1617       female                       0     45-60  bachelors\n",
      "1394       female                       0       NaN  bachelors\n",
      "311          male                       0     30-45  bachelors\n",
      "1980         male                       0     45-60    masters\n"
     ]
    }
   ],
   "source": [
    "print(toxicity_annotations.head())\n",
    "print(toxicity_annotated_comments.head())\n",
    "print(toxicity_worker_demographics.head())"
   ]
  },
  {
   "cell_type": "code",
   "execution_count": 11,
   "metadata": {},
   "outputs": [
    {
     "name": "stdout",
     "output_type": "stream",
     "text": [
      "   rev_id  worker_id  aggression  aggression_score\n",
      "0   37675       1362         1.0              -1.0\n",
      "1   37675       2408         0.0               1.0\n",
      "2   37675       1493         0.0               0.0\n",
      "3   37675       1439         0.0               0.0\n",
      "4   37675        170         0.0               0.0\n",
      "   rev_id                                            comment  year  logged_in  \\\n",
      "0   37675  `-NEWLINE_TOKENThis is not ``creative``.  Thos...  2002       True   \n",
      "1   44816  `NEWLINE_TOKENNEWLINE_TOKEN:: the term ``stand...  2002       True   \n",
      "2   49851  NEWLINE_TOKENNEWLINE_TOKENTrue or false, the s...  2002       True   \n",
      "3   89320   Next, maybe you could work on being less cond...  2002       True   \n",
      "4   93890               This page will need disambiguation.   2002       True   \n",
      "\n",
      "        ns  sample  split  \n",
      "0  article  random  train  \n",
      "1  article  random  train  \n",
      "2  article  random  train  \n",
      "3  article  random    dev  \n",
      "4  article  random  train  \n",
      "           gender  english_first_language age_group     education\n",
      "worker_id                                                        \n",
      "833        female                       0     45-60     bachelors\n",
      "1072         male                       0     30-45     bachelors\n",
      "872          male                       0     18-30            hs\n",
      "2116         male                       0     30-45  professional\n",
      "453          male                       0     30-45            hs\n"
     ]
    }
   ],
   "source": [
    "print(aggression_annotations.head())\n",
    "print(aggression_annotated_comments.head())\n",
    "print(aggression_worker_demographics.head())"
   ]
  },
  {
   "cell_type": "markdown",
   "metadata": {},
   "source": [
    "### Join the Toxicity annotations and worker demographics dataframes"
   ]
  },
  {
   "cell_type": "code",
   "execution_count": 12,
   "metadata": {},
   "outputs": [],
   "source": [
    "toxicity_annotations_plus_worker_demo = pd.merge(toxicity_annotations, toxicity_worker_demographics, left_on=\"worker_id\", right_index=True)"
   ]
  },
  {
   "cell_type": "code",
   "execution_count": 13,
   "metadata": {},
   "outputs": [
    {
     "data": {
      "text/html": [
       "<div>\n",
       "<style scoped>\n",
       "    .dataframe tbody tr th:only-of-type {\n",
       "        vertical-align: middle;\n",
       "    }\n",
       "\n",
       "    .dataframe tbody tr th {\n",
       "        vertical-align: top;\n",
       "    }\n",
       "\n",
       "    .dataframe thead th {\n",
       "        text-align: right;\n",
       "    }\n",
       "</style>\n",
       "<table border=\"1\" class=\"dataframe\">\n",
       "  <thead>\n",
       "    <tr style=\"text-align: right;\">\n",
       "      <th></th>\n",
       "      <th>rev_id</th>\n",
       "      <th>worker_id</th>\n",
       "      <th>toxicity</th>\n",
       "      <th>toxicity_score</th>\n",
       "      <th>gender</th>\n",
       "      <th>english_first_language</th>\n",
       "      <th>age_group</th>\n",
       "      <th>education</th>\n",
       "    </tr>\n",
       "  </thead>\n",
       "  <tbody>\n",
       "    <tr>\n",
       "      <th>0</th>\n",
       "      <td>2232.0</td>\n",
       "      <td>723</td>\n",
       "      <td>0</td>\n",
       "      <td>0.0</td>\n",
       "      <td>female</td>\n",
       "      <td>0</td>\n",
       "      <td>30-45</td>\n",
       "      <td>bachelors</td>\n",
       "    </tr>\n",
       "    <tr>\n",
       "      <th>71</th>\n",
       "      <td>37346.0</td>\n",
       "      <td>723</td>\n",
       "      <td>0</td>\n",
       "      <td>0.0</td>\n",
       "      <td>female</td>\n",
       "      <td>0</td>\n",
       "      <td>30-45</td>\n",
       "      <td>bachelors</td>\n",
       "    </tr>\n",
       "    <tr>\n",
       "      <th>417</th>\n",
       "      <td>227181.0</td>\n",
       "      <td>723</td>\n",
       "      <td>0</td>\n",
       "      <td>0.0</td>\n",
       "      <td>female</td>\n",
       "      <td>0</td>\n",
       "      <td>30-45</td>\n",
       "      <td>bachelors</td>\n",
       "    </tr>\n",
       "    <tr>\n",
       "      <th>4281</th>\n",
       "      <td>2810755.0</td>\n",
       "      <td>723</td>\n",
       "      <td>0</td>\n",
       "      <td>0.0</td>\n",
       "      <td>female</td>\n",
       "      <td>0</td>\n",
       "      <td>30-45</td>\n",
       "      <td>bachelors</td>\n",
       "    </tr>\n",
       "    <tr>\n",
       "      <th>10305</th>\n",
       "      <td>7270696.0</td>\n",
       "      <td>723</td>\n",
       "      <td>0</td>\n",
       "      <td>0.0</td>\n",
       "      <td>female</td>\n",
       "      <td>0</td>\n",
       "      <td>30-45</td>\n",
       "      <td>bachelors</td>\n",
       "    </tr>\n",
       "  </tbody>\n",
       "</table>\n",
       "</div>"
      ],
      "text/plain": [
       "          rev_id  worker_id  toxicity  toxicity_score  gender  \\\n",
       "0         2232.0        723         0             0.0  female   \n",
       "71       37346.0        723         0             0.0  female   \n",
       "417     227181.0        723         0             0.0  female   \n",
       "4281   2810755.0        723         0             0.0  female   \n",
       "10305  7270696.0        723         0             0.0  female   \n",
       "\n",
       "       english_first_language age_group  education  \n",
       "0                           0     30-45  bachelors  \n",
       "71                          0     30-45  bachelors  \n",
       "417                         0     30-45  bachelors  \n",
       "4281                        0     30-45  bachelors  \n",
       "10305                       0     30-45  bachelors  "
      ]
     },
     "execution_count": 13,
     "metadata": {},
     "output_type": "execute_result"
    }
   ],
   "source": [
    "toxicity_annotations_plus_worker_demo.head()"
   ]
  },
  {
   "cell_type": "markdown",
   "metadata": {},
   "source": [
    "### Join the Aggression annotations and worker demographics dataframes"
   ]
  },
  {
   "cell_type": "code",
   "execution_count": 14,
   "metadata": {},
   "outputs": [],
   "source": [
    "aggression_annotations_plus_worker_demo = pd.merge(aggression_annotations, aggression_worker_demographics, left_on=\"worker_id\", right_index=True)"
   ]
  },
  {
   "cell_type": "code",
   "execution_count": 15,
   "metadata": {},
   "outputs": [
    {
     "data": {
      "text/html": [
       "<div>\n",
       "<style scoped>\n",
       "    .dataframe tbody tr th:only-of-type {\n",
       "        vertical-align: middle;\n",
       "    }\n",
       "\n",
       "    .dataframe tbody tr th {\n",
       "        vertical-align: top;\n",
       "    }\n",
       "\n",
       "    .dataframe thead th {\n",
       "        text-align: right;\n",
       "    }\n",
       "</style>\n",
       "<table border=\"1\" class=\"dataframe\">\n",
       "  <thead>\n",
       "    <tr style=\"text-align: right;\">\n",
       "      <th></th>\n",
       "      <th>rev_id</th>\n",
       "      <th>worker_id</th>\n",
       "      <th>aggression</th>\n",
       "      <th>aggression_score</th>\n",
       "      <th>gender</th>\n",
       "      <th>english_first_language</th>\n",
       "      <th>age_group</th>\n",
       "      <th>education</th>\n",
       "    </tr>\n",
       "  </thead>\n",
       "  <tbody>\n",
       "    <tr>\n",
       "      <th>0</th>\n",
       "      <td>37675</td>\n",
       "      <td>1362</td>\n",
       "      <td>1.0</td>\n",
       "      <td>-1.0</td>\n",
       "      <td>male</td>\n",
       "      <td>0</td>\n",
       "      <td>18-30</td>\n",
       "      <td>masters</td>\n",
       "    </tr>\n",
       "    <tr>\n",
       "      <th>3097</th>\n",
       "      <td>3202092</td>\n",
       "      <td>1362</td>\n",
       "      <td>0.0</td>\n",
       "      <td>0.0</td>\n",
       "      <td>male</td>\n",
       "      <td>0</td>\n",
       "      <td>18-30</td>\n",
       "      <td>masters</td>\n",
       "    </tr>\n",
       "    <tr>\n",
       "      <th>4653</th>\n",
       "      <td>4745553</td>\n",
       "      <td>1362</td>\n",
       "      <td>0.0</td>\n",
       "      <td>0.0</td>\n",
       "      <td>male</td>\n",
       "      <td>0</td>\n",
       "      <td>18-30</td>\n",
       "      <td>masters</td>\n",
       "    </tr>\n",
       "    <tr>\n",
       "      <th>4758</th>\n",
       "      <td>4855563</td>\n",
       "      <td>1362</td>\n",
       "      <td>0.0</td>\n",
       "      <td>0.0</td>\n",
       "      <td>male</td>\n",
       "      <td>0</td>\n",
       "      <td>18-30</td>\n",
       "      <td>masters</td>\n",
       "    </tr>\n",
       "    <tr>\n",
       "      <th>7995</th>\n",
       "      <td>8350378</td>\n",
       "      <td>1362</td>\n",
       "      <td>0.0</td>\n",
       "      <td>0.0</td>\n",
       "      <td>male</td>\n",
       "      <td>0</td>\n",
       "      <td>18-30</td>\n",
       "      <td>masters</td>\n",
       "    </tr>\n",
       "  </tbody>\n",
       "</table>\n",
       "</div>"
      ],
      "text/plain": [
       "       rev_id  worker_id  aggression  aggression_score gender  \\\n",
       "0       37675       1362         1.0              -1.0   male   \n",
       "3097  3202092       1362         0.0               0.0   male   \n",
       "4653  4745553       1362         0.0               0.0   male   \n",
       "4758  4855563       1362         0.0               0.0   male   \n",
       "7995  8350378       1362         0.0               0.0   male   \n",
       "\n",
       "      english_first_language age_group education  \n",
       "0                          0     18-30   masters  \n",
       "3097                       0     18-30   masters  \n",
       "4653                       0     18-30   masters  \n",
       "4758                       0     18-30   masters  \n",
       "7995                       0     18-30   masters  "
      ]
     },
     "execution_count": 15,
     "metadata": {},
     "output_type": "execute_result"
    }
   ],
   "source": [
    "aggression_annotations_plus_worker_demo.head()"
   ]
  },
  {
   "cell_type": "markdown",
   "metadata": {},
   "source": [
    "# 3: Toxicity and Age Group Bias EDA"
   ]
  },
  {
   "cell_type": "markdown",
   "metadata": {},
   "source": [
    "### There is often a generational component in how people speak and this could affect whether someone perceives a comment as toxic or not.\n",
    "\n",
    "### The question(s) I want to ask is: Is the toxicity corpus age-ballanced with respect to the population, and if not is there some relation between age and liklihood to rate a comment as toxic? This could indicate an age bias."
   ]
  },
  {
   "cell_type": "markdown",
   "metadata": {},
   "source": [
    "### Let's check to see the ages of the annotators as a percentage of all annotations"
   ]
  },
  {
   "cell_type": "code",
   "execution_count": 16,
   "metadata": {},
   "outputs": [
    {
     "data": {
      "text/plain": [
       "age_group\n",
       "18-30       53.746202\n",
       "30-45       35.552552\n",
       "45-60        7.826639\n",
       "Over 60      0.737454\n",
       "Under 18     2.137153\n",
       "Name: rev_id, dtype: float64"
      ]
     },
     "execution_count": 16,
     "metadata": {},
     "output_type": "execute_result"
    }
   ],
   "source": [
    "x = toxicity_annotations_plus_worker_demo.groupby(\"age_group\").rev_id.count()\n",
    "toxicity_age_percent = x/x.sum()*100\n",
    "toxicity_age_percent"
   ]
  },
  {
   "cell_type": "markdown",
   "metadata": {},
   "source": [
    "### We see that the 18-30 age group accounts for more than half of all toxicity annotations"
   ]
  },
  {
   "cell_type": "markdown",
   "metadata": {},
   "source": [
    "### Let's check with the US Census for 2010 to see if these age groups are accurate for the US population.\n",
    "https://www.census.gov/prod/cen2010/briefs/c2010br-03.pdf"
   ]
  },
  {
   "cell_type": "code",
   "execution_count": 17,
   "metadata": {},
   "outputs": [
    {
     "name": "stdout",
     "output_type": "stream",
     "text": [
      "  age_group  us_pop_percent\n",
      "0  under_20       26.970477\n",
      "1     20-29       13.826945\n",
      "2     30-44       19.767122\n",
      "3     45-59       20.942849\n",
      "4   over_60       20.696691\n",
      "age_group\n",
      "18-30       53.746202\n",
      "30-45       35.552552\n",
      "45-60        7.826639\n",
      "Over 60      0.737454\n",
      "Under 18     2.137153\n",
      "Name: rev_id, dtype: float64\n"
     ]
    }
   ],
   "source": [
    "census_age_data = {'age_group':['under_20', '20-29', '30-44', '45-59', 'over_60'],\n",
    "                  'us_pop_percent':[100*(20.2+20.35+20.68+22.04)/308.745, 100*(21.59+21.1)/308.745, 100*(19.96+20.18+20.89)/308.745, 100*(22.7+22.3+19.66)/308.745, 100*(16.8+12.4+9.3+8.08+5.9+4.24+3.18+2.3+1.7)/308.745]}\n",
    "\n",
    "df_census_age = pd.DataFrame(census_age_data)\n",
    "\n",
    "print(df_census_age)\n",
    "print(toxicity_age_percent)"
   ]
  },
  {
   "cell_type": "markdown",
   "metadata": {},
   "source": [
    "### Although some of the age groups don't align perfectly(and age 20 is double counted), we can easily see that the age distrobution of the annotaters for this corpus are not representative of the ages of the US population as a whole (according to the 2010 US census)."
   ]
  },
  {
   "cell_type": "markdown",
   "metadata": {},
   "source": [
    "### Let's now check the toxicity by age_group i.e. \"Is there a relationship between age group and how often a comment is marked as toxic?\""
   ]
  },
  {
   "cell_type": "code",
   "execution_count": 18,
   "metadata": {},
   "outputs": [
    {
     "data": {
      "text/html": [
       "<div>\n",
       "<style scoped>\n",
       "    .dataframe tbody tr th:only-of-type {\n",
       "        vertical-align: middle;\n",
       "    }\n",
       "\n",
       "    .dataframe tbody tr th {\n",
       "        vertical-align: top;\n",
       "    }\n",
       "\n",
       "    .dataframe thead th {\n",
       "        text-align: right;\n",
       "    }\n",
       "</style>\n",
       "<table border=\"1\" class=\"dataframe\">\n",
       "  <thead>\n",
       "    <tr style=\"text-align: right;\">\n",
       "      <th></th>\n",
       "      <th>mean_is_toxic_rate</th>\n",
       "      <th>count</th>\n",
       "    </tr>\n",
       "    <tr>\n",
       "      <th>age_group</th>\n",
       "      <th></th>\n",
       "      <th></th>\n",
       "    </tr>\n",
       "  </thead>\n",
       "  <tbody>\n",
       "    <tr>\n",
       "      <th>18-30</th>\n",
       "      <td>0.141173</td>\n",
       "      <td>708182</td>\n",
       "    </tr>\n",
       "    <tr>\n",
       "      <th>30-45</th>\n",
       "      <td>0.149421</td>\n",
       "      <td>468455</td>\n",
       "    </tr>\n",
       "    <tr>\n",
       "      <th>45-60</th>\n",
       "      <td>0.166251</td>\n",
       "      <td>103127</td>\n",
       "    </tr>\n",
       "    <tr>\n",
       "      <th>Over 60</th>\n",
       "      <td>0.156941</td>\n",
       "      <td>9717</td>\n",
       "    </tr>\n",
       "    <tr>\n",
       "      <th>Under 18</th>\n",
       "      <td>0.120135</td>\n",
       "      <td>28160</td>\n",
       "    </tr>\n",
       "  </tbody>\n",
       "</table>\n",
       "</div>"
      ],
      "text/plain": [
       "           mean_is_toxic_rate   count\n",
       "age_group                            \n",
       "18-30                0.141173  708182\n",
       "30-45                0.149421  468455\n",
       "45-60                0.166251  103127\n",
       "Over 60              0.156941    9717\n",
       "Under 18             0.120135   28160"
      ]
     },
     "execution_count": 18,
     "metadata": {},
     "output_type": "execute_result"
    }
   ],
   "source": [
    "toxicity_age_mean_toxic = toxicity_annotations_plus_worker_demo.groupby(\"age_group\").toxicity.mean()\n",
    "toxicity_age_mean_toxic = toxicity_age_mean_toxic.rename('mean_is_toxic_rate')\n",
    "\n",
    "toxicity_age_count = toxicity_annotations_plus_worker_demo.groupby(\"age_group\").toxicity.count()\n",
    "toxicity_age_count = toxicity_age_count.rename('count')\n",
    "\n",
    "toxicity_age_toxic_count = pd.concat([toxicity_age_mean_toxic, toxicity_age_count], axis=1)\n",
    "toxicity_age_toxic_count"
   ]
  },
  {
   "cell_type": "markdown",
   "metadata": {},
   "source": [
    "### We see from above that there is likley a positive correlation between age and how likely a person is to mark a comment as toxic i.e. an age bias."
   ]
  },
  {
   "cell_type": "markdown",
   "metadata": {},
   "source": [
    "### However, before we jump to conclusions, we will use as Chi Squared test satisfy to ourselves that the \"mean_is_toxic_rate\"s are in fact significantly different from each other."
   ]
  },
  {
   "cell_type": "code",
   "execution_count": 19,
   "metadata": {},
   "outputs": [
    {
     "data": {
      "text/plain": [
       "array([0., 0., 0., 0., 0.])"
      ]
     },
     "execution_count": 19,
     "metadata": {},
     "output_type": "execute_result"
    }
   ],
   "source": [
    "stats.chisquare(toxicity_age_toxic_count, axis=1).pvalue"
   ]
  },
  {
   "cell_type": "markdown",
   "metadata": {},
   "source": [
    "### As we might expect given the size of counts, the pvalue's are all effectively zero so we can feel good that the \"mean_is_toxic_rate\"s are significantly different from each other at whatever confidence level we like (80, 95, 99...)"
   ]
  },
  {
   "cell_type": "markdown",
   "metadata": {},
   "source": [
    "### Let's now quantify the correlation and then visualize our data using our aproximate ages (instead of age ranges)"
   ]
  },
  {
   "cell_type": "code",
   "execution_count": 20,
   "metadata": {},
   "outputs": [],
   "source": [
    "idx = toxicity_age_toxic_count.index\n",
    "mid_age_range = np.array([(18+30)/2, (30+45)/2, (45+60)/2, 70, 10])\n",
    "ser_mid_age_range = pd.Series(mid_age_range, index=idx, name='mid_age_range')\n",
    "toxicity_age_toxic_count = pd.concat([toxicity_age_toxic_count, ser_mid_age_range], axis=1)"
   ]
  },
  {
   "cell_type": "code",
   "execution_count": 21,
   "metadata": {},
   "outputs": [
    {
     "data": {
      "text/plain": [
       "(0.8672523807124152, 0.05688943101661129)"
      ]
     },
     "execution_count": 21,
     "metadata": {},
     "output_type": "execute_result"
    }
   ],
   "source": [
    "# here we calculate the pearson r correlation coefficent\n",
    "stats.pearsonr(toxicity_age_toxic_count['mean_is_toxic_rate'], toxicity_age_toxic_count['mid_age_range'])"
   ]
  },
  {
   "cell_type": "code",
   "execution_count": 22,
   "metadata": {},
   "outputs": [
    {
     "name": "stdout",
     "output_type": "stream",
     "text": [
      "           mean_is_toxic_rate   count  mid_age_range\n",
      "age_group                                           \n",
      "18-30                0.141173  708182           24.0\n",
      "30-45                0.149421  468455           37.5\n",
      "45-60                0.166251  103127           52.5\n",
      "Over 60              0.156941    9717           70.0\n",
      "Under 18             0.120135   28160           10.0\n"
     ]
    }
   ],
   "source": [
    "print(toxicity_age_toxic_count)\n",
    "\n",
    "# we'll use this dataframe in our plot so, we'll save this data in a csv\n",
    "toxicity_age_toxic_count.to_csv(r'toxicity_age_toxic_count.csv', index = True)"
   ]
  },
  {
   "cell_type": "code",
   "execution_count": 23,
   "metadata": {},
   "outputs": [
    {
     "data": {
      "image/png": "[encoded data removed]",
      "text/plain": [
       "<Figure size 432x288 with 1 Axes>"
      ]
     },
     "metadata": {
      "needs_background": "light"
     },
     "output_type": "display_data"
    },
    {
     "data": {
      "text/plain": [
       "<Figure size 432x288 with 0 Axes>"
      ]
     },
     "metadata": {},
     "output_type": "display_data"
    }
   ],
   "source": [
    "fig = sns.lineplot(data=toxicity_age_toxic_count, x='mid_age_range', y='mean_is_toxic_rate').set_title('approximate annotator age vs rate marking a comment as toxic')\n",
    "plt.xlabel('approximate annotator age')\n",
    "plt.ylabel('rate annotator marks a comment as toxic')\n",
    "plt.show(fig)\n",
    "\n",
    "#save the plot\n",
    "plt.savefig('data512_a2_approximate_annotator_age_vs_rate_marking_a_comment_as_toxic.png')"
   ]
  },
  {
   "cell_type": "markdown",
   "metadata": {},
   "source": [
    "### We see that younger annotaters are less likley than older annotaters to rate a comment as toxic."
   ]
  },
  {
   "cell_type": "markdown",
   "metadata": {},
   "source": [
    "### We have also seen that the corpus is biased towards younger annotaters, which taken together with the above information would suggest the corpus toxicity is underrated do to the age bias. Furthermore, any models trianed on this corpus may underrepresent how toxic a comment is to the larger population."
   ]
  },
  {
   "cell_type": "markdown",
   "metadata": {},
   "source": [
    "# 4: Aggression and Gender Bias EDA"
   ]
  },
  {
   "cell_type": "markdown",
   "metadata": {},
   "source": [
    "### In many cultures men are seen to be generally more aggressive than women. \n",
    "### My question(s): is the Aggression corpus gender balanced, and if not is it related to how aggressive comments are scored? This could indicate a gender bias."
   ]
  },
  {
   "cell_type": "markdown",
   "metadata": {},
   "source": [
    "### Let's look for the gender breakdown of the Aggression dataset"
   ]
  },
  {
   "cell_type": "code",
   "execution_count": 24,
   "metadata": {},
   "outputs": [
    {
     "data": {
      "text/html": [
       "<div>\n",
       "<style scoped>\n",
       "    .dataframe tbody tr th:only-of-type {\n",
       "        vertical-align: middle;\n",
       "    }\n",
       "\n",
       "    .dataframe tbody tr th {\n",
       "        vertical-align: top;\n",
       "    }\n",
       "\n",
       "    .dataframe thead th {\n",
       "        text-align: right;\n",
       "    }\n",
       "</style>\n",
       "<table border=\"1\" class=\"dataframe\">\n",
       "  <thead>\n",
       "    <tr style=\"text-align: right;\">\n",
       "      <th></th>\n",
       "      <th>rev_id</th>\n",
       "      <th>worker_id</th>\n",
       "      <th>aggression</th>\n",
       "      <th>aggression_score</th>\n",
       "      <th>gender</th>\n",
       "      <th>english_first_language</th>\n",
       "      <th>age_group</th>\n",
       "      <th>education</th>\n",
       "    </tr>\n",
       "  </thead>\n",
       "  <tbody>\n",
       "    <tr>\n",
       "      <th>0</th>\n",
       "      <td>37675</td>\n",
       "      <td>1362</td>\n",
       "      <td>1.0</td>\n",
       "      <td>-1.0</td>\n",
       "      <td>male</td>\n",
       "      <td>0</td>\n",
       "      <td>18-30</td>\n",
       "      <td>masters</td>\n",
       "    </tr>\n",
       "    <tr>\n",
       "      <th>3097</th>\n",
       "      <td>3202092</td>\n",
       "      <td>1362</td>\n",
       "      <td>0.0</td>\n",
       "      <td>0.0</td>\n",
       "      <td>male</td>\n",
       "      <td>0</td>\n",
       "      <td>18-30</td>\n",
       "      <td>masters</td>\n",
       "    </tr>\n",
       "    <tr>\n",
       "      <th>4653</th>\n",
       "      <td>4745553</td>\n",
       "      <td>1362</td>\n",
       "      <td>0.0</td>\n",
       "      <td>0.0</td>\n",
       "      <td>male</td>\n",
       "      <td>0</td>\n",
       "      <td>18-30</td>\n",
       "      <td>masters</td>\n",
       "    </tr>\n",
       "    <tr>\n",
       "      <th>4758</th>\n",
       "      <td>4855563</td>\n",
       "      <td>1362</td>\n",
       "      <td>0.0</td>\n",
       "      <td>0.0</td>\n",
       "      <td>male</td>\n",
       "      <td>0</td>\n",
       "      <td>18-30</td>\n",
       "      <td>masters</td>\n",
       "    </tr>\n",
       "    <tr>\n",
       "      <th>7995</th>\n",
       "      <td>8350378</td>\n",
       "      <td>1362</td>\n",
       "      <td>0.0</td>\n",
       "      <td>0.0</td>\n",
       "      <td>male</td>\n",
       "      <td>0</td>\n",
       "      <td>18-30</td>\n",
       "      <td>masters</td>\n",
       "    </tr>\n",
       "  </tbody>\n",
       "</table>\n",
       "</div>"
      ],
      "text/plain": [
       "       rev_id  worker_id  aggression  aggression_score gender  \\\n",
       "0       37675       1362         1.0              -1.0   male   \n",
       "3097  3202092       1362         0.0               0.0   male   \n",
       "4653  4745553       1362         0.0               0.0   male   \n",
       "4758  4855563       1362         0.0               0.0   male   \n",
       "7995  8350378       1362         0.0               0.0   male   \n",
       "\n",
       "      english_first_language age_group education  \n",
       "0                          0     18-30   masters  \n",
       "3097                       0     18-30   masters  \n",
       "4653                       0     18-30   masters  \n",
       "4758                       0     18-30   masters  \n",
       "7995                       0     18-30   masters  "
      ]
     },
     "execution_count": 24,
     "metadata": {},
     "output_type": "execute_result"
    }
   ],
   "source": [
    "aggression_annotations_plus_worker_demo.head()"
   ]
  },
  {
   "cell_type": "code",
   "execution_count": 25,
   "metadata": {},
   "outputs": [
    {
     "data": {
      "text/plain": [
       "gender\n",
       "female    36.013788\n",
       "male      63.976510\n",
       "other      0.009702\n",
       "Name: worker_id, dtype: float64"
      ]
     },
     "execution_count": 25,
     "metadata": {},
     "output_type": "execute_result"
    }
   ],
   "source": [
    "x = aggression_annotations_plus_worker_demo.groupby('gender').worker_id.count()\n",
    "x/x.sum()*100"
   ]
  },
  {
   "cell_type": "markdown",
   "metadata": {},
   "source": [
    "### almost two thirds of the annotaters were male, gender unbalanced "
   ]
  },
  {
   "cell_type": "code",
   "execution_count": 26,
   "metadata": {},
   "outputs": [
    {
     "data": {
      "text/plain": [
       "gender\n",
       "female    38.657617\n",
       "male      61.318781\n",
       "other      0.023602\n",
       "Name: rev_id, dtype: float64"
      ]
     },
     "execution_count": 26,
     "metadata": {},
     "output_type": "execute_result"
    }
   ],
   "source": [
    "aggro = aggression_annotations_plus_worker_demo['aggression'] == 1\n",
    "aggro_only = aggression_annotations_plus_worker_demo[aggro]\n",
    "x = aggro_only.groupby('gender').rev_id.count()\n",
    "x/x.sum()*100"
   ]
  },
  {
   "cell_type": "markdown",
   "metadata": {},
   "source": [
    "### Of the comments flagged as aggressive, about the same ratio of male to female as there are overall annotaters"
   ]
  },
  {
   "cell_type": "code",
   "execution_count": 27,
   "metadata": {},
   "outputs": [
    {
     "name": "stdout",
     "output_type": "stream",
     "text": [
      "aggression_score\n",
      "-3.0     4.193152\n",
      "-2.0     4.374797\n",
      "-1.0     9.756240\n",
      " 0.0    72.940127\n",
      " 1.0     6.009720\n",
      " 2.0     1.964316\n",
      " 3.0     0.761647\n",
      "Name: rev_id, dtype: float64\n"
     ]
    }
   ],
   "source": [
    "aggro_score_count = aggression_annotations_plus_worker_demo.groupby('aggression_score').rev_id.count()\n",
    "aggro_score_pct = aggro_score_count/aggro_score_count.sum()*100\n",
    "print(aggro_score_pct)"
   ]
  },
  {
   "cell_type": "code",
   "execution_count": 28,
   "metadata": {},
   "outputs": [
    {
     "data": {
      "text/plain": [
       "aggression_score\n",
       "-3.0    3.924886\n",
       "-2.0    4.342186\n",
       "-1.0    9.295888\n",
       " 1.0    6.554571\n",
       " 2.0    2.211654\n",
       " 3.0    0.801348\n",
       "Name: male_score_percent, dtype: float64"
      ]
     },
     "execution_count": 28,
     "metadata": {},
     "output_type": "execute_result"
    }
   ],
   "source": [
    "male = aggression_annotations_plus_worker_demo['gender'] == 'male'\n",
    "male_aggression = aggression_annotations_plus_worker_demo[male]\n",
    "\n",
    "x = male_aggression.groupby('aggression_score').rev_id.count()\n",
    "x = x/x.sum()*100\n",
    "\n",
    "# remove the zero scores, the zero scores are a large percentage and tell us very little\n",
    "x_no_zero = x.drop(index=0.0)\n",
    "x_no_zero = x_no_zero.rename('male_score_percent')\n",
    "x_no_zero"
   ]
  },
  {
   "cell_type": "code",
   "execution_count": 29,
   "metadata": {},
   "outputs": [
    {
     "data": {
      "text/plain": [
       "aggression_score\n",
       "-3.0     4.669218\n",
       "-2.0     4.431310\n",
       "-1.0    10.568868\n",
       " 1.0     5.042145\n",
       " 2.0     1.524815\n",
       " 3.0     0.691327\n",
       "Name: female_score_percent, dtype: float64"
      ]
     },
     "execution_count": 29,
     "metadata": {},
     "output_type": "execute_result"
    }
   ],
   "source": [
    "female = aggression_annotations_plus_worker_demo['gender'] == 'female'\n",
    "female_aggression = aggression_annotations_plus_worker_demo[female]\n",
    "\n",
    "y = female_aggression.groupby('aggression_score').rev_id.count()\n",
    "y = y/y.sum()*100\n",
    "\n",
    "# remove the zero scores, the zero scores are a large percentage and tell us very little\n",
    "y_no_zero = y.drop(index=0.0)\n",
    "y_no_zero = y_no_zero.rename('female_score_percent')\n",
    "y_no_zero"
   ]
  },
  {
   "cell_type": "code",
   "execution_count": 30,
   "metadata": {},
   "outputs": [
    {
     "data": {
      "text/html": [
       "<div>\n",
       "<style scoped>\n",
       "    .dataframe tbody tr th:only-of-type {\n",
       "        vertical-align: middle;\n",
       "    }\n",
       "\n",
       "    .dataframe tbody tr th {\n",
       "        vertical-align: top;\n",
       "    }\n",
       "\n",
       "    .dataframe thead th {\n",
       "        text-align: right;\n",
       "    }\n",
       "</style>\n",
       "<table border=\"1\" class=\"dataframe\">\n",
       "  <thead>\n",
       "    <tr style=\"text-align: right;\">\n",
       "      <th></th>\n",
       "      <th>male_score_percent</th>\n",
       "      <th>female_score_percent</th>\n",
       "    </tr>\n",
       "    <tr>\n",
       "      <th>aggression_score</th>\n",
       "      <th></th>\n",
       "      <th></th>\n",
       "    </tr>\n",
       "  </thead>\n",
       "  <tbody>\n",
       "    <tr>\n",
       "      <th>-3.0</th>\n",
       "      <td>3.924886</td>\n",
       "      <td>4.669218</td>\n",
       "    </tr>\n",
       "    <tr>\n",
       "      <th>-2.0</th>\n",
       "      <td>4.342186</td>\n",
       "      <td>4.431310</td>\n",
       "    </tr>\n",
       "    <tr>\n",
       "      <th>-1.0</th>\n",
       "      <td>9.295888</td>\n",
       "      <td>10.568868</td>\n",
       "    </tr>\n",
       "    <tr>\n",
       "      <th>1.0</th>\n",
       "      <td>6.554571</td>\n",
       "      <td>5.042145</td>\n",
       "    </tr>\n",
       "    <tr>\n",
       "      <th>2.0</th>\n",
       "      <td>2.211654</td>\n",
       "      <td>1.524815</td>\n",
       "    </tr>\n",
       "    <tr>\n",
       "      <th>3.0</th>\n",
       "      <td>0.801348</td>\n",
       "      <td>0.691327</td>\n",
       "    </tr>\n",
       "  </tbody>\n",
       "</table>\n",
       "</div>"
      ],
      "text/plain": [
       "                  male_score_percent  female_score_percent\n",
       "aggression_score                                          \n",
       "-3.0                        3.924886              4.669218\n",
       "-2.0                        4.342186              4.431310\n",
       "-1.0                        9.295888             10.568868\n",
       " 1.0                        6.554571              5.042145\n",
       " 2.0                        2.211654              1.524815\n",
       " 3.0                        0.801348              0.691327"
      ]
     },
     "execution_count": 30,
     "metadata": {},
     "output_type": "execute_result"
    }
   ],
   "source": [
    "aggression_male_female_score_percent = pd.concat([x_no_zero, y_no_zero], axis=1)\n",
    "aggression_male_female_score_percent"
   ]
  },
  {
   "cell_type": "markdown",
   "metadata": {},
   "source": [
    "### Male annotaters tend to rate aggressive comments as less aggressive than female annotaters as well as rating positive comments as more positive. Overall the male annotaters seem to give higher(less aggressive, more positive) scores than female annotaters."
   ]
  },
  {
   "cell_type": "markdown",
   "metadata": {},
   "source": [
    "### The barplot below is a fine way to visualize this data"
   ]
  },
  {
   "cell_type": "code",
   "execution_count": 31,
   "metadata": {},
   "outputs": [
    {
     "data": {
      "image/png": "[encoded data removed]",
      "text/plain": [
       "<Figure size 432x288 with 1 Axes>"
      ]
     },
     "metadata": {
      "needs_background": "light"
     },
     "output_type": "display_data"
    },
    {
     "data": {
      "text/plain": [
       "<Figure size 432x288 with 0 Axes>"
      ]
     },
     "metadata": {},
     "output_type": "display_data"
    }
   ],
   "source": [
    "score = np.array([-3, -2, -1, 1, 2, 3])\n",
    "men_percent = aggression_male_female_score_percent['male_score_percent']\n",
    "women_percent = aggression_male_female_score_percent['female_score_percent']\n",
    "\n",
    "# let's save the above data in a csv so that people can easily reproduce the plot below\n",
    "aggression_male_female_score_percent.to_csv(r'aggression_male_female_score_percent.csv', index = True)\n",
    "\n",
    "x = score \n",
    "width = 0.35\n",
    "\n",
    "fig, ax = plt.subplots()\n",
    "rects1 = ax.bar(x - width/2, men_percent, width, label='Men')\n",
    "rects2 = ax.bar(x + width/2, women_percent, width, label='Women')\n",
    "\n",
    "ax.set_ylabel('Percent of Annotater score')\n",
    "ax.set_title('Percent of Annotater Scores by Score and Gender')\n",
    "ax.set_xticks(x)\n",
    "ax.set_xticklabels(score)\n",
    "ax.set_xlabel('Aggressiveness Score, lower number is more aggressive i.e. score of -3 is more aggressive than -2')\n",
    "ax.legend()\n",
    "\n",
    "plt.show()\n",
    "\n",
    "#save the plot\n",
    "plt.savefig('data512_a2_percent_of_annotater_scores_by_score_and_gender.png')"
   ]
  },
  {
   "cell_type": "markdown",
   "metadata": {},
   "source": [
    "### In the above plot we see that men annotaters tend to give lower aggressiveness scores than women annotaters which seems to represent a gender bias. The score of zero was omitted for clarity"
   ]
  },
  {
   "cell_type": "markdown",
   "metadata": {},
   "source": [
    "### We also recall that there are about twice as many men annotaters as women annotaters which compounds the bias.  It seems like the aggressiveness of the comments in the corpus is underrated due to the majority of men annotaters. If this is not corrected then any models trained on this corpus may also underrate how aggressive a comment is to a larger population."
   ]
  },
  {
   "cell_type": "markdown",
   "metadata": {},
   "source": [
    "# 5: Summary and Implications"
   ]
  },
  {
   "cell_type": "markdown",
   "metadata": {},
   "source": [
    "### We have seen in the toxiciy corpus a trend of younger annotaters less likley to rate comments as toxic than older annotaters. The toxicity corpus also has an age imbalance, such that there are more younger annotaters than there are older annotaters in comparison to the US population. This leads us to belive that the toxicity reported in the corpus is biased to be less toxic than it should be."
   ]
  },
  {
   "cell_type": "markdown",
   "metadata": {},
   "source": [
    "### We have also seen that there is a gender inbalance for the annotaters in the aggression corpus which is likley causing the agressiveness of comments to be underestimated."
   ]
  },
  {
   "cell_type": "markdown",
   "metadata": {},
   "source": [
    "### The results of our exploratory data analysis lead us to strongly suspect that an annotator gender and age imbalance in the overall corpus could result in a bias where the level of toxicity and aggresiveness of comments could be underestimated. Any models trained on this corpus should be closely examined for age and gender bias."
   ]
  },
  {
   "cell_type": "code",
   "execution_count": null,
   "metadata": {},
   "outputs": [],
   "source": []
  },
  {
   "cell_type": "markdown",
   "metadata": {},
   "source": [
    "# 6: Questions"
   ]
  },
  {
   "cell_type": "markdown",
   "metadata": {},
   "source": [
    "### Which, if any, of these demo applications would you expect the Perspective API to perform poorly in? Why?"
   ]
  },
  {
   "cell_type": "markdown",
   "metadata": {},
   "source": [
    "We have seen that the toxicity and aggresiveness corpora have significant imbalances in age and gender respecitvely. We have also seen how these imbalances could result in a bias where toxicity and aggersivenes of comments are underestimated. So, I would expect the demo applications of the Perspective API to underestimate how toxic a comment is to most people. Based on this, I expect most applications relying on an accurate toxic score to perform poorly, applications such as: Comment Filter; Behave!; and Authorship Feedback."
   ]
  },
  {
   "cell_type": "markdown",
   "metadata": {},
   "source": [
    "### What are some potential unintended, negative consequences of using the Perspective API for any of these purposes? In your opinion, are these consequences likely or serious enough that you would recommend that the Perspective API not be used in these applications? Why or why not?"
   ]
  },
  {
   "cell_type": "markdown",
   "metadata": {},
   "source": [
    "Most of the Perspective API demo applications are mostly associated with blocking or removing toxic comments, which is a form of censorship. The uninteded consequenses of censorship are many, but the first to be considered is: \"does this censorship constitute violation of first amendment rights?\" Beyond legal considerations, censorship can have a chilling effect on open discussion. It's entirly possible that Perspective API censorship could discorage more people from contributing to a discussion than toxic comments may, which would defeat the original purpose of the Perspective API."
   ]
  },
  {
   "cell_type": "markdown",
   "metadata": {},
   "source": [
    "### Imagine you are one of the Google data scientists who maintains the Perspective API. If you wanted to improve the model or the API itself to make it work better for any of these purposes, how should they go about doing that?"
   ]
  },
  {
   "cell_type": "markdown",
   "metadata": {},
   "source": [
    "To improve the performance of the model I would begin by focusing on the input data. I belive that it's easier to build a more fair and effective model if it is built on good, representative data. First, if time and resources allowed, I would ask to supplement our corpora with additional data so that the input data is representative of the population of the intended users. Second, I would try to weight our data, similar to the way pollsters weight political polling data, to achive results more similar to what I would expect from a more representative dataset. The last thing I would try would be to down-sample our data to achive a smaller but more representative dataset."
   ]
  },
  {
   "cell_type": "code",
   "execution_count": null,
   "metadata": {},
   "outputs": [],
   "source": []
  }
 ],
 "metadata": {
  "kernelspec": {
   "display_name": "Python 3",
   "language": "python",
   "name": "python3"
  },
  "language_info": {
   "codemirror_mode": {
    "name": "ipython",
    "version": 3
   },
   "file_extension": ".py",
   "mimetype": "text/x-python",
   "name": "python",
   "nbconvert_exporter": "python",
   "pygments_lexer": "ipython3",
   "version": "3.7.4"
  }
 },
 "nbformat": 4,
 "nbformat_minor": 4
}
